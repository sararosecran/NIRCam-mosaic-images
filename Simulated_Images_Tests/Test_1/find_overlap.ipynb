{
 "cells": [
  {
   "cell_type": "code",
   "execution_count": 36,
   "metadata": {
    "collapsed": true
   },
   "outputs": [],
   "source": [
    "#Finds overlap in exposures. Then creates 100 X 100 pixel location fits files.\n",
    "\n",
    "#ONLY USES EXPOSURE 1-4 AT THE MOMENT\n"
   ]
  },
  {
   "cell_type": "code",
   "execution_count": 37,
   "metadata": {
    "collapsed": true
   },
   "outputs": [],
   "source": [
    "from __future__ import print_function\n",
    "import matplotlib.pyplot as plt\n",
    "from astropy.io import fits\n",
    "import numpy as np\n",
    "from math import ceil"
   ]
  },
  {
   "cell_type": "code",
   "execution_count": 38,
   "metadata": {
    "collapsed": true
   },
   "outputs": [],
   "source": [
    "#function reads in file\n",
    "def read_file(filename):\n",
    "    try:\n",
    "        with open(filename, 'r') as file:\n",
    "            for line in file:\n",
    "                print(line.rstrip())\n",
    "    except IOError as e:\n",
    "        print(e)"
   ]
  },
  {
   "cell_type": "code",
   "execution_count": 39,
   "metadata": {
    "collapsed": true
   },
   "outputs": [],
   "source": [
    "#function finds x coordinate where exposure is in encompasing box\n",
    "def translation_x(tbdatx_array,i):\n",
    "    x = x_low - tbdatx_array[i][0][0]\n",
    "    return x"
   ]
  },
  {
   "cell_type": "code",
   "execution_count": 40,
   "metadata": {
    "collapsed": true
   },
   "outputs": [],
   "source": [
    "#function finds x coordinate where exposure is in encompasing box\n",
    "def translation_y(tbdaty_array,i):\n",
    "    y = y_low - tbdaty_array[i][0][0]\n",
    "    return y"
   ]
  },
  {
   "cell_type": "code",
   "execution_count": 41,
   "metadata": {
    "collapsed": false
   },
   "outputs": [],
   "source": [
    "#function creates 100X100 array and writes new fits for x pixel locations\n",
    "def new_fits_x(fname,x,fwrite):\n",
    "    hdu_list = fits.open(fname)\n",
    "    tbdat = hdu_list[0].data\n",
    "#    print(\"original tbdat\")\n",
    "#    print(tbdat)\n",
    "#    print(np.shape(tbdat))\n",
    "    \n",
    "    minimum = x\n",
    "#    print(\"minimum\")\n",
    "#    print(minimum)\n",
    "    \n",
    "#    print(\"tbdat in 0,0 reference\")\n",
    "#    print(tbdat + minimum)\n",
    "    \n",
    "    where_delete = np.where(tbdat<(minimum+tbdat))\n",
    "#    print(\"where_delete\")\n",
    "#    print(where_delete)\n",
    "    \n",
    "    maximum = 100 + minimum #size of minifits\n",
    "  \n",
    "    tbdat = tbdat.ravel()\n",
    "#    print(tbdat)\n",
    "    \n",
    "    tbdat_x_crop = []\n",
    "    tbdat_x_cropr = []\n",
    "    if(len(where_delete) != 0):\n",
    "        for i in range(len(tbdat)):\n",
    "            if (tbdat[i] > (minimum+tbdat[0])) and (tbdat[i] < (maximum+tbdat[0])):\n",
    "                tbdat_x_crop.append(tbdat[i])\n",
    "\n",
    "    tbdat_x_crop = np.delete(tbdat_x_crop,list(range(10000,len(tbdat_x_crop))),0)\n",
    "#    print(len(tbdat_x_crop))\n",
    "    \n",
    "\n",
    "    tbdat_x_crop = np.reshape(tbdat_x_crop,(100,100))\n",
    "\n",
    "    \n",
    "    tbdat_final = np.asarray(tbdat_x_crop) #turns in numpy array\n",
    "    hdu = fits.PrimaryHDU(tbdat_final)\n",
    "#    hdu.writeto(fwrite)\n",
    "\n",
    "#function creates 100X100 array and writes new fits for y pixel locations\n",
    "def new_fits_y(fname,y,fwrite):\n",
    "    hdu_list = fits.open(fname)\n",
    "    tbdat = hdu_list[0].data\n",
    "#    print(\"original tbdat\")\n",
    "#    print(tbdat)\n",
    "#    print(np.shape(tbdat))\n",
    "    \n",
    "    minimum = y\n",
    "#    print(\"minimum\")\n",
    "#    print(minimum)\n",
    "    \n",
    "#    print(\"tbdat in 0,0 reference\")\n",
    "#    print(tbdat + minimum)\n",
    "    \n",
    "    where_delete = np.where(tbdat<(minimum+tbdat))\n",
    "#    print(\"where_delete\")\n",
    "#    print(where_delete)\n",
    "    \n",
    "    maximum = 100 + minimum #size of minifits\n",
    "  \n",
    "    tbdat = tbdat.ravel()\n",
    "#    print(tbdat)\n",
    "    \n",
    "    tbdat_y_crop = []\n",
    "    tbdat_y_cropr = []\n",
    "    if(len(where_delete) != 0):\n",
    "        for i in range(len(tbdat)):\n",
    "            if (tbdat[i] > (minimum+tbdat[0])) and (tbdat[i] < (maximum+tbdat[0])):\n",
    "                tbdat_y_crop.append(tbdat[i])\n",
    "    tbdat_y_crop = np.reshape(tbdat_y_crop,(100,2048))\n",
    "#    print(len(tbdat_y_crop[0]))\n",
    "    tbdat_y_crop = np.delete(tbdat_y_crop,list(range(100,len(tbdat_y_crop[0]))),1)\n",
    "#    print(tbdat_y_crop)\n",
    "#    print(np.shape(tbdat_y_crop))\n",
    "    \n",
    "    \n",
    "    tbdat_final = np.asarray(tbdat_y_crop) #turns in numpy array\n",
    "    hdu = fits.PrimaryHDU(tbdat_final)\n",
    "#    hdu.writeto(fwrite)"
   ]
  },
  {
   "cell_type": "code",
   "execution_count": 42,
   "metadata": {
    "collapsed": true
   },
   "outputs": [],
   "source": [
    "#puts all fits into np arrays\n",
    "hdux_array = ['hdu_list_x1', 'hdu_list_x2', 'hdu_list_x3', 'hdu_list_x4', 'hdu_list_x5', 'hdu_list_x6', 'hdu_list_x7' , 'hdu_list_x8']\n",
    "hduy_array = ['hdu_list_y1', 'hdu_list_y2', 'hdu_list_y3', 'hdu_list_y4', 'hdu_list_y5', 'hdu_list_y6', 'hdu_list_y7' , 'hdu_list_y8']\n",
    "filex_array = ['x.01.fits', 'x.02.fits', 'x.03.fits', 'x.04.fits', 'x.05.fits', 'x.06.fits', 'x.07.fits', 'x.08.fits']\n",
    "filey_array = ['y.01.fits', 'y.02.fits', 'y.03.fits', 'y.04.fits', 'y.05.fits', 'y.06.fits', 'y.07.fits', 'y.08.fits']\n",
    "tbdatx_array = ['tbdat_x1','tbdat_x2','tbdat_x3','tbdat_x4','tbdat_x5','tbdat_x6','tbdat_x7','tbdat_x8']\n",
    "tbdaty_array = ['tbdat_y1','tbdat_y2','tbdat_y3','tbdat_y4','tbdat_y5','tbdat_y6','tbdat_y7','tbdat_y8']"
   ]
  },
  {
   "cell_type": "code",
   "execution_count": 43,
   "metadata": {
    "collapsed": false
   },
   "outputs": [
    {
     "name": "stdout",
     "output_type": "stream",
     "text": [
      "x[0][0], y[0][0]: 0.0 0.0\n",
      "x[0][0], y[0][0]: 4.66850594259 5.04828867496\n",
      "x[0][0], y[0][0]: 7.27828866026 2.65856622777\n",
      "x[0][0], y[0][0]: 1.60340573264 7.751343469\n",
      "x[0][0], y[0][0]: 795.130535742 777.73440886\n",
      "x[0][0], y[0][0]: 799.798730854 782.783313465\n",
      "x[0][0], y[0][0]: 802.408660595 780.3936082\n",
      "x[0][0], y[0][0]: 796.734899714 785.588618379\n"
     ]
    }
   ],
   "source": [
    "for i in range(0,8):\n",
    "    hdux_array[i] = fits.open(filex_array[i])\n",
    "    hduy_array[i] = fits.open(filey_array[i])\n",
    "    tbdatx_array[i] = hdux_array[i][0].data\n",
    "    tbdaty_array[i] = hduy_array[i][0].data\n",
    "    print(\"x[0][0], y[0][0]:\", tbdatx_array[i][0][0], tbdaty_array[i][0][0]) #prints x(0) & y(0)"
   ]
  },
  {
   "cell_type": "code",
   "execution_count": 44,
   "metadata": {
    "collapsed": false
   },
   "outputs": [
    {
     "name": "stdout",
     "output_type": "stream",
     "text": [
      "x & y where all exposures exist: 7.27828866026 7.751343469\n"
     ]
    }
   ],
   "source": [
    "x_low = tbdatx_array[2][0][0]\n",
    "x_high = tbdatx_array[0][0][0] + 100\n",
    "y_low = tbdaty_array[3][0][0]\n",
    "y_high = tbdaty_array[0][0][0] + 100\n",
    "print(\"x & y where all exposures exist:\",x_low,y_low,) # For 4 exposures this is the corner of the square that all exposure cover."
   ]
  },
  {
   "cell_type": "code",
   "execution_count": 45,
   "metadata": {
    "collapsed": false
   },
   "outputs": [
    {
     "name": "stdout",
     "output_type": "stream",
     "text": [
      "[7.2782886602626604, 7.75134346899722] [2.6097827176724877, 2.7030547940404404] [0.0, 5.0927772412265995] [5.6748829276207289, 0.0]\n"
     ]
    }
   ],
   "source": [
    "exp1_adjust = []\n",
    "exp2_adjust = []\n",
    "exp3_adjust = []\n",
    "exp4_adjust = []\n",
    "exp1_adjust.append(x_low)\n",
    "exp1_adjust.append(y_low)\n",
    "exp2_adjust.append(translation_x(tbdatx_array,1))\n",
    "exp2_adjust.append(translation_y(tbdaty_array,1))\n",
    "exp3_adjust.append(translation_x(tbdatx_array,2))\n",
    "exp3_adjust.append(translation_y(tbdaty_array,2))\n",
    "exp4_adjust.append(translation_x(tbdatx_array,3))\n",
    "exp4_adjust.append(translation_y(tbdaty_array,3))\n",
    "\n",
    "\n",
    "print(exp1_adjust,exp2_adjust,exp3_adjust,exp4_adjust) #Pixel location for each exposure where start box encompased by all exposures    "
   ]
  },
  {
   "cell_type": "code",
   "execution_count": 46,
   "metadata": {
    "collapsed": false
   },
   "outputs": [],
   "source": [
    "fits_string_array_x = []\n",
    "fits_write_array_x = []\n",
    "for k in range(1,5):\n",
    "    fits_string_x = \"x.0\" + str(k) + \".fits\"\n",
    "    fits_string_array_x.append(fits_string_x) #creates array of all original pixel x locations filenames\n",
    "    fits_write_string_x = \"x.0\" + str(k) + \"_100.fits\"\n",
    "    fits_write_array_x.append(fits_write_string_x) #creates array of new pixel x locations filenames\n",
    "\n",
    "fits_string_array_y = []\n",
    "fits_write_array_y = []\n",
    "for k in range(1,5):\n",
    "    fits_string_y = \"y.0\" + str(k) + \".fits\"\n",
    "    fits_string_array_y.append(fits_string_y) #creates array of all original pixel y locations filenames\n",
    "    fits_write_string_y = \"y.0\" + str(k) + \"_100.fits\"\n",
    "    fits_write_array_y.append(fits_write_string_y) #creates array of new pixel y locations filenames\n",
    "    \n",
    "\n",
    "x_array = [exp1_adjust[0],exp2_adjust[0],exp3_adjust[0],exp4_adjust[0]]\n",
    "y_array = [exp1_adjust[1],exp2_adjust[1],exp3_adjust[1],exp4_adjust[1]]\n",
    "all_x_pixels = []\n",
    "all_y_pixels = []\n",
    "\n",
    "\n",
    "for j in range(0,4):\n",
    "    fname_x = fits_string_array_x[j]\n",
    "    fwrite_x = fits_write_array_x[j]\n",
    "    fname_y = fits_string_array_y[j]\n",
    "    fwrite_y = fits_write_array_y[j]\n",
    "    x = x_array[j]\n",
    "    y = y_array[j]\n",
    "    new_fits_x(fname_x,x,fwrite_x) #writes new 100 X 100 fits and starts pixel output locations\n",
    "    new_fits_y(fname_y,y,fwrite_y) #writes new 100 X 100 fits and starts pixel output locations)\n",
    "    "
   ]
  },
  {
   "cell_type": "code",
   "execution_count": 47,
   "metadata": {
    "collapsed": false
   },
   "outputs": [
    {
     "name": "stdout",
     "output_type": "stream",
     "text": [
      "[   8.    9.   10. ...,  105.  106.  107.]\n"
     ]
    },
    {
     "ename": "NameError",
     "evalue": "name 'tbdat12' is not defined",
     "output_type": "error",
     "traceback": [
      "\u001b[0;31m---------------------------------------------------------------------------\u001b[0m",
      "\u001b[0;31mNameError\u001b[0m                                 Traceback (most recent call last)",
      "\u001b[0;32m<ipython-input-47-c719aa5bb87f>\u001b[0m in \u001b[0;36m<module>\u001b[0;34m()\u001b[0m\n\u001b[1;32m     14\u001b[0m \u001b[0;34m\u001b[0m\u001b[0m\n\u001b[1;32m     15\u001b[0m \u001b[0mtbdat_12\u001b[0m \u001b[0;34m=\u001b[0m \u001b[0mnp\u001b[0m\u001b[0;34m.\u001b[0m\u001b[0mappend\u001b[0m\u001b[0;34m(\u001b[0m\u001b[0mtbdat1\u001b[0m\u001b[0;34m,\u001b[0m\u001b[0mtbdat2\u001b[0m\u001b[0;34m)\u001b[0m\u001b[0;34m\u001b[0m\u001b[0m\n\u001b[0;32m---> 16\u001b[0;31m \u001b[0mtbdat_123\u001b[0m \u001b[0;34m=\u001b[0m \u001b[0mnp\u001b[0m\u001b[0;34m.\u001b[0m\u001b[0mappend\u001b[0m\u001b[0;34m(\u001b[0m\u001b[0mtbdat12\u001b[0m\u001b[0;34m,\u001b[0m\u001b[0mtbdat3\u001b[0m\u001b[0;34m)\u001b[0m\u001b[0;34m\u001b[0m\u001b[0m\n\u001b[0m\u001b[1;32m     17\u001b[0m \u001b[0mtbdat_1234\u001b[0m \u001b[0;34m=\u001b[0m \u001b[0mnp\u001b[0m\u001b[0;34m.\u001b[0m\u001b[0mappend\u001b[0m\u001b[0;34m(\u001b[0m\u001b[0mtbdat123\u001b[0m\u001b[0;34m,\u001b[0m\u001b[0mtbdat4\u001b[0m\u001b[0;34m)\u001b[0m\u001b[0;34m\u001b[0m\u001b[0m\n\u001b[1;32m     18\u001b[0m \u001b[0mtbdat_1234\u001b[0m \u001b[0;34m=\u001b[0m \u001b[0mnp\u001b[0m\u001b[0;34m.\u001b[0m\u001b[0msort\u001b[0m\u001b[0;34m(\u001b[0m\u001b[0mtbdat1234\u001b[0m\u001b[0;34m)\u001b[0m\u001b[0;34m\u001b[0m\u001b[0m\n",
      "\u001b[0;31mNameError\u001b[0m: name 'tbdat12' is not defined"
     ]
    }
   ],
   "source": [
    "hdu_list1 = fits.open('x.01_100.fits')\n",
    "tbdat1 = hdu_list1[0].data\n",
    "tbdat1 = tbdat1.flatten()\n",
    "hdu_list2 = fits.open('x.02_100.fits')\n",
    "tbdat2 = hdu_list2[0].data\n",
    "tbdat2 = tbdat2.flatten()\n",
    "hdu_list3 = fits.open('x.03_100.fits')\n",
    "tbdat3 = hdu_list3[0].data\n",
    "tbdat3 = tbdat3.flatten()\n",
    "hdu_list4 = fits.open('x.04_100.fits')\n",
    "tbdat4 = hdu_list4[0].data\n",
    "tbdat4 = tbdat4.flatten()\n",
    "print(tbdat1)\n",
    "\n",
    "tbdat_12 = np.append(tbdat1,tbdat2)\n",
    "tbdat_123 = np.append(tbdat12,tbdat3)\n",
    "tbdat_1234 = np.append(tbdat123,tbdat4)\n",
    "tbdat_1234 = np.sort(tbdat1234)\n",
    "print(tbdat_1234)\n",
    "print(len(tbdat_1234))\n",
    "\n",
    "tbdat_final = np.reshape(tbdat_1234,(200,200))\n",
    "tbdat_final = np.rot90(tbdat_final)\n",
    "\n",
    "print(tbdat_final)\n",
    "hdu = fits.PrimaryHDU(tbdat_final)\n",
    "hdu.writeto('x_out_100.fits')"
   ]
  },
  {
   "cell_type": "code",
   "execution_count": 225,
   "metadata": {
    "collapsed": false
   },
   "outputs": [
    {
     "name": "stdout",
     "output_type": "stream",
     "text": [
      "[   8.    8.    8. ...,  107.  107.  107.]\n",
      "[   7.60334484    7.60334545    7.60334607 ...,  107.27828818  107.2782884\n",
      "  107.27828862]\n",
      "40000\n",
      "[[   7.60334484    7.60334545    7.60334607 ...,    7.66850513\n",
      "     7.66850554    7.66850594]\n",
      " [   8.            8.            8.         ...,    8.27828822\n",
      "     8.27828844    8.27828866]\n",
      " [   8.60334484    8.60334545    8.60334607 ...,    8.66850513\n",
      "     8.66850554    8.66850594]\n",
      " ..., \n",
      " [ 106.          106.          106.         ...,  106.27828818  106.2782884\n",
      "   106.27828862]\n",
      " [ 106.60334482  106.60334543  106.60334605 ...,  106.6685051   106.6685055\n",
      "   106.66850591]\n",
      " [ 107.          107.          107.         ...,  107.27828818  107.2782884\n",
      "   107.27828862]]\n"
     ]
    }
   ],
   "source": [
    "hdu_list1 = fits.open('y.01_100.fits')\n",
    "tbdat1 = hdu_list1[0].data\n",
    "tbdat1 = tbdat1.flatten()\n",
    "hdu_list2 = fits.open('y.02_100.fits')\n",
    "tbdat2 = hdu_list2[0].data\n",
    "tbdat2 = tbdat2.flatten()\n",
    "hdu_list3 = fits.open('y.03_100.fits')\n",
    "tbdat3 = hdu_list3[0].data\n",
    "tbdat3 = tbdat3.flatten()\n",
    "hdu_list4 = fits.open('y.04_100.fits')\n",
    "tbdat4 = hdu_list4[0].data\n",
    "tbdat4 = tbdat4.flatten()\n",
    "print(tbdat1)\n",
    "\n",
    "tbdat_12 = np.append(tbdat1,tbdat2)\n",
    "tbdat_123 = np.append(tbdat12,tbdat3)\n",
    "tbdat_1234 = np.append(tbdat123,tbdat4)\n",
    "tbdat_1234 = np.sort(tbdat1234)\n",
    "print(tbdat_1234)\n",
    "print(len(tbdat_1234))\n",
    "\n",
    "tbdat_final = np.reshape(tbdat_1234,(200,200))\n",
    "\n",
    "print(tbdat_final)\n",
    "hdu = fits.PrimaryHDU(tbdat_final)\n",
    "hdu.writeto('y_out_100.fits')"
   ]
  },
  {
   "cell_type": "code",
   "execution_count": 51,
   "metadata": {
    "collapsed": false
   },
   "outputs": [],
   "source": [
    "#Now read in actual images\n",
    "hdu_list_img1 = fits.open('simple_sim_cube_F090W_487_01.slp.fits')\n",
    "tbdat_img1 = hdu_list_img1[0].data\n",
    "hdu_list_img2 = fits.open('simple_sim_cube_F090W_487_02.slp.fits')\n",
    "tbdat_img2 = hdu_list_img2[0].data\n",
    "hdu_list_img3 = fits.open('simple_sim_cube_F090W_487_03.slp.fits')\n",
    "tbdat_img3 = hdu_list_img3[0].data\n",
    "hdu_list_img4 = fits.open('simple_sim_cube_F090W_487_04.slp.fits')\n",
    "tbdat_img4 = hdu_list_img4[0].data"
   ]
  },
  {
   "cell_type": "code",
   "execution_count": 52,
   "metadata": {
    "collapsed": false
   },
   "outputs": [
    {
     "name": "stdout",
     "output_type": "stream",
     "text": [
      "[[ 0.          0.00093138  0.         ...,  0.00039916  0.11868435\n",
      "   0.07743755]\n",
      " [ 0.          0.10098815  0.         ...,  0.0159665   0.10937056\n",
      "   0.01476902]\n",
      " [ 0.04058155  0.02315143  0.24229181 ..., -0.00878158  0.         -0.0206234 ]\n",
      " ..., \n",
      " [-0.02754222  0.03206608 -0.01091045 ...,  0.03472716  0.          0.        ]\n",
      " [ 0.05415305  0.09832707 -0.01609956 ..., -0.03259828 -0.02780833\n",
      "   0.02594557]\n",
      " [-0.00518911 -0.01663178  0.         ...,  0.0095799   0.00292719\n",
      "   0.04164597]]\n",
      "(2048, 2048)\n",
      "\n",
      "[[ 0.13132286  0.12214375  0.1311903  ...,  0.13890839  0.13518333\n",
      "   0.13265514]\n",
      " [ 0.14702606  0.13398647  0.15021992 ...,  0.14768982  0.14622688\n",
      "   0.12613583]\n",
      " [ 0.12640095  0.12813091  0.12493896 ...,  0.12320805  0.14622593\n",
      "   0.13518333]\n",
      " ..., \n",
      " [ 0.13704586  0.13172436  0.14263439 ...,  0.14476299  0.15593958\n",
      "   0.1395731 ]\n",
      " [ 0.13238811  0.12999439  0.12201023 ...,  0.14476299  0.13039255\n",
      "   0.12706661]\n",
      " [ 0.13771248  0.13731194  0.15248013 ...,  0.11974907  0.15460873\n",
      "   0.14383125]]\n",
      "(100, 100)\n",
      "[[ 0.          0.          0.0723815  ...,  0.00545522  0.26664072\n",
      "   0.14928684]\n",
      " [ 0.01024517  0.          0.0694543  ...,  0.22007173  0.          0.        ]\n",
      " [-0.01037823  0.0746434   0.08182836 ...,  0.         -0.00066527\n",
      "   0.03392883]\n",
      " ..., \n",
      " [ 0.16072953  0.07304677  0.01769621 ...,  0.00745103  0.07357892\n",
      "   0.01117656]\n",
      " [ 0.03259829  0.          0.0046569  ...,  0.09965762  0.         -0.00133054]\n",
      " [ 0.1256032   0.00385857 -0.02341754 ...,  0.02301836  0.03046942  0.        ]]\n",
      "(2048, 2048)\n",
      "\n",
      "[[-0.02208701  0.         -0.00332636 ...,  0.01330542  0.02887274\n",
      "   0.05747943]\n",
      " [-0.01463596  0.13491726  0.13797951 ...,  0.10950327  0.13332176\n",
      "   0.12653494]\n",
      " [ 0.06293464  0.12054825  0.12560368 ...,  0.15607357  0.14263344\n",
      "   0.15420818]\n",
      " ..., \n",
      " [-0.01530124  0.14143753  0.12972641 ...,  0.12826443  0.15248013\n",
      "   0.14556122]\n",
      " [ 0.          0.12932873  0.11961651 ...,  0.1253376   0.13159084\n",
      "   0.1264019 ]\n",
      " [ 0.07397814  0.14396477  0.12879753 ...,  0.13132429  0.13411903\n",
      "   0.14449739]]\n",
      "(100, 100)\n",
      "[[-0.03193301  0.03366272  0.07850198 ...,  0.00984603  0.         -0.01929286]\n",
      " [ 0.          0.0093138   0.2490775  ..., -0.03565853  0.          0.19106585]\n",
      " [ 0.05974136  0.0095799   0.01383764 ...,  0.          0.05122586\n",
      "  -0.01330542]\n",
      " ..., \n",
      " [ 0.00159665  0.         -0.00039916 ..., -0.00226192 -0.00997907\n",
      "   0.02168785]\n",
      " [ 0.08302584 -0.00359246  0.11642244 ..., -0.00332636  0.          0.1314576 ]\n",
      " [ 0.0238167   0.01290626 -0.01729705 ...,  0.0409807   0.         -0.00492301]]\n",
      "(2048, 2048)\n",
      "\n",
      "[[ 0.06732544 -0.01543429  0.         ...,  0.09766178  0.06532963  0.        ]\n",
      " [ 0.15700397  0.04310957  0.         ..., -0.00039916  0.1214785\n",
      "  -0.01596651]\n",
      " [-0.01130961 -0.00332636  0.01024518 ...,  0.10777393  0.07996559\n",
      "   0.00731798]\n",
      " ..., \n",
      " [ 0.12812996  0.12680054  0.13119125 ...,  0.12480545  0.15394402\n",
      "   0.12440681]\n",
      " [ 0.13105869  0.14183521  0.14729214 ...,  0.14609528  0.12626839\n",
      "   0.12653446]\n",
      " [ 0.11149979  0.16471958  0.13997364 ...,  0.14276791  0.14196873\n",
      "   0.13970661]]\n",
      "(100, 100)\n",
      "[[-0.02740917  0.00798325  0.01729705 ...,  0.049097   -0.01902676\n",
      "   0.00239498]\n",
      " [ 0.02474809  0.1978516   0.019692   ...,  0.00226192  0.17895791\n",
      "   0.0804978 ]\n",
      " [-0.0014636   0.00066527  0.         ...,  0.05016142 -0.00399163\n",
      "  -0.00133054]\n",
      " ..., \n",
      " [ 0.00279414  0.         -0.01343848 ...,  0.          0.02594557\n",
      "   0.09912542]\n",
      " [ 0.          0.01929286  0.         ..., -0.01862759  0.00864852\n",
      "   0.00399163]\n",
      " [ 0.01184182  0.          0.08182836 ..., -0.00133054 -0.03033636  0.        ]]\n",
      "(2048, 2048)\n",
      "\n",
      "[[ -1.59665104e-03  -1.91598013e-02   0.00000000e+00 ...,   1.45561218e-01\n",
      "    1.35049820e-01   1.27732277e-01]\n",
      " [ -1.06443381e-02   5.12258708e-02   3.53924185e-02 ...,   1.37578011e-01\n",
      "    1.37845039e-01   1.28130913e-01]\n",
      " [  1.09769732e-01  -1.33054215e-04   5.12258857e-02 ...,   1.50484085e-01\n",
      "    1.52213097e-01   1.39440536e-01]\n",
      " ..., \n",
      " [  0.00000000e+00  -3.99162760e-04  -1.59665067e-02 ...,   1.19482994e-01\n",
      "    1.38643265e-01   1.55008316e-01]\n",
      " [  1.64854169e-01   5.72133064e-02  -9.44684818e-03 ...,   1.28131866e-01\n",
      "    1.29063606e-01   1.33053780e-01]\n",
      " [  0.00000000e+00   1.00322872e-01   5.17580956e-02 ...,   1.41436577e-01\n",
      "    1.41836166e-01   1.20413780e-01]]\n",
      "(100, 100)\n"
     ]
    }
   ],
   "source": [
    "#resize images\n",
    "\n",
    "print(np.shape(tbdat_img1))\n",
    "tbdat_img1 = np.delete(tbdat_img1, list(range(0,int(ceil(x_array[0])))),0) #cuts off x not overlapped \n",
    "tbdat_img1 = np.delete(tbdat_img1, list(range(100,len(tbdat_img1[0]))),0) #makes x = 100 dimension\n",
    "tbdat_img1 = np.delete(tbdat_img1, list(range(0,int(ceil(y_array[0])))),1) # cuts off y not overlapped\n",
    "tbdat_img1 = np.delete(tbdat_img1, list(range(100,len(tbdat_img1[0]))),1)\n",
    "print(np.shape(tbdat_img1))\n",
    "\n",
    "print(np.shape(tbdat_img2))\n",
    "tbdat_img2 = np.delete(tbdat_img2, list(range(0,int(ceil(x_array[1])))),0) #cuts off x not overlapped \n",
    "tbdat_img2 = np.delete(tbdat_img2, list(range(100,len(tbdat_img2[0]))),0) #makes x = 100 dimension\n",
    "tbdat_img2 = np.delete(tbdat_img2, list(range(0,int(ceil(y_array[1])))),1) # cuts off y not overlapped\n",
    "tbdat_img2 = np.delete(tbdat_img2, list(range(100,len(tbdat_img2[0]))),1)\n",
    "print(np.shape(tbdat_img2))\n",
    "\n",
    "print(np.shape(tbdat_img3))\n",
    "tbdat_img3 = np.delete(tbdat_img3, list(range(0,int(ceil(x_array[2])))),0) #cuts off x not overlapped \n",
    "tbdat_img3 = np.delete(tbdat_img3, list(range(100,len(tbdat_img3[0]))),0) #makes x = 100 dimension\n",
    "tbdat_img3 = np.delete(tbdat_img3, list(range(0,int(ceil(y_array[2])))),1) # cuts off y not overlapped\n",
    "tbdat_img3 = np.delete(tbdat_img3, list(range(100,len(tbdat_img3[0]))),1)\n",
    "print(np.shape(tbdat_img3))\n",
    "\n",
    "print(np.shape(tbdat_img4))\n",
    "tbdat_img4 = np.delete(tbdat_img4, list(range(0,int(ceil(x_array[3])))),0) #cuts off x not overlapped \n",
    "tbdat_img4 = np.delete(tbdat_img4, list(range(100,len(tbdat_img4[0]))),0) #makes x = 100 dimension\n",
    "tbdat_img4 = np.delete(tbdat_img4, list(range(0,int(ceil(y_array[3])))),1) # cuts off y not overlapped\n",
    "tbdat_img4 = np.delete(tbdat_img4, list(range(100,len(tbdat_img4[0]))),1)\n",
    "print(np.shape(tbdat_img4))"
   ]
  },
  {
   "cell_type": "code",
   "execution_count": 53,
   "metadata": {
    "collapsed": true
   },
   "outputs": [],
   "source": [
    "#Writes new images to fits\n",
    "hdu = fits.PrimaryHDU(tbdat_img1)\n",
    "hdu.writeto('100_simple_sim_cube_F090W_487_01.slp.fits')\n",
    "hdu = fits.PrimaryHDU(tbdat_img2)\n",
    "hdu.writeto('100_simple_sim_cube_F090W_487_02.slp.fits')\n",
    "hdu = fits.PrimaryHDU(tbdat_img3)\n",
    "hdu.writeto('100_simple_sim_cube_F090W_487_03.slp.fits')\n",
    "hdu = fits.PrimaryHDU(tbdat_img4)\n",
    "hdu.writeto('100_simple_sim_cube_F090W_487_04.slp.fits')"
   ]
  },
  {
   "cell_type": "code",
   "execution_count": null,
   "metadata": {
    "collapsed": true
   },
   "outputs": [],
   "source": []
  }
 ],
 "metadata": {
  "kernelspec": {
   "display_name": "Python 2",
   "language": "python",
   "name": "python2"
  },
  "language_info": {
   "codemirror_mode": {
    "name": "ipython",
    "version": 2
   },
   "file_extension": ".py",
   "mimetype": "text/x-python",
   "name": "python",
   "nbconvert_exporter": "python",
   "pygments_lexer": "ipython2",
   "version": "2.7.12"
  }
 },
 "nbformat": 4,
 "nbformat_minor": 1
}
