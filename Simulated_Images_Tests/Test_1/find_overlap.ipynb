{
 "cells": [
  {
   "cell_type": "code",
   "execution_count": 5,
   "metadata": {
    "collapsed": true
   },
   "outputs": [],
   "source": [
    "#Finds overlap in exposures. Then creates 100 X 100 pixel location fits files.\n",
    "\n",
    "#ONLY USES EXPOSURE 1-4 AT THE MOMENT\n"
   ]
  },
  {
   "cell_type": "code",
   "execution_count": 6,
   "metadata": {
    "collapsed": true
   },
   "outputs": [],
   "source": [
    "from __future__ import print_function\n",
    "import matplotlib.pyplot as plt\n",
    "from astropy.io import fits\n",
    "import numpy as np\n",
    "from math import ceil"
   ]
  },
  {
   "cell_type": "code",
   "execution_count": 7,
   "metadata": {
    "collapsed": true
   },
   "outputs": [],
   "source": [
    "#function reads in file\n",
    "def read_file(filename):\n",
    "    try:\n",
    "        with open(filename, 'r') as file:\n",
    "            for line in file:\n",
    "                print(line.rstrip())\n",
    "    except IOError as e:\n",
    "        print(e)"
   ]
  },
  {
   "cell_type": "code",
   "execution_count": 8,
   "metadata": {
    "collapsed": true
   },
   "outputs": [],
   "source": [
    "#function finds x coordinate where exposure is in encompasing box\n",
    "def translation_x(tbdatx_array,i):\n",
    "    x = x_low - tbdatx_array[i][0][0]\n",
    "    return x"
   ]
  },
  {
   "cell_type": "code",
   "execution_count": 9,
   "metadata": {
    "collapsed": true
   },
   "outputs": [],
   "source": [
    "#function finds x coordinate where exposure is in encompasing box\n",
    "def translation_y(tbdaty_array,i):\n",
    "    y = y_low - tbdaty_array[i][0][0]\n",
    "    return y"
   ]
  },
  {
   "cell_type": "code",
   "execution_count": 217,
   "metadata": {
    "collapsed": false
   },
   "outputs": [],
   "source": [
    "#function creates 100X100 array and writes new fits for x pixel locations\n",
    "def new_fits_x(fname,x,fwrite):\n",
    "    hdu_list = fits.open(fname)\n",
    "    tbdat = hdu_list[0].data\n",
    "#    print(\"original tbdat\")\n",
    "#    print(tbdat)\n",
    "#    print(np.shape(tbdat))\n",
    "    \n",
    "    minimum = x\n",
    "#    print(\"minimum\")\n",
    "#    print(minimum)\n",
    "    \n",
    "#    print(\"tbdat in 0,0 reference\")\n",
    "#    print(tbdat + minimum)\n",
    "    \n",
    "    where_delete = np.where(tbdat<(minimum+tbdat))\n",
    "#    print(\"where_delete\")\n",
    "#    print(where_delete)\n",
    "    \n",
    "    maximum = 100 + minimum #size of minifits\n",
    "  \n",
    "    tbdat = tbdat.ravel()\n",
    "#    print(tbdat)\n",
    "    \n",
    "    tbdat_x_crop = []\n",
    "    tbdat_x_cropr = []\n",
    "    if(len(where_delete) != 0):\n",
    "        for i in range(len(tbdat)):\n",
    "            if (tbdat[i] > (minimum+tbdat[0])) and (tbdat[i] < (maximum+tbdat[0])):\n",
    "                tbdat_x_crop.append(tbdat[i])\n",
    "\n",
    "    tbdat_x_crop = np.delete(tbdat_x_crop,list(range(10000,len(tbdat_x_crop))),0)\n",
    "#    print(len(tbdat_x_crop))\n",
    "    \n",
    "\n",
    "    tbdat_x_crop = np.reshape(tbdat_x_crop,(100,100))\n",
    "\n",
    "    \n",
    "    tbdat_final = np.asarray(tbdat_x_crop) #turns in numpy array\n",
    "    hdu = fits.PrimaryHDU(tbdat_final)\n",
    "    hdu.writeto(fwrite)\n",
    "\n",
    "#function creates 100X100 array and writes new fits for y pixel locations\n",
    "def new_fits_y(fname,y,fwrite):\n",
    "    hdu_list = fits.open(fname)\n",
    "    tbdat = hdu_list[0].data\n",
    "#    print(\"original tbdat\")\n",
    "#    print(tbdat)\n",
    "#    print(np.shape(tbdat))\n",
    "    \n",
    "    minimum = y\n",
    "#    print(\"minimum\")\n",
    "#    print(minimum)\n",
    "    \n",
    "#    print(\"tbdat in 0,0 reference\")\n",
    "#    print(tbdat + minimum)\n",
    "    \n",
    "    where_delete = np.where(tbdat<(minimum+tbdat))\n",
    "#    print(\"where_delete\")\n",
    "#    print(where_delete)\n",
    "    \n",
    "    maximum = 100 + minimum #size of minifits\n",
    "  \n",
    "    tbdat = tbdat.ravel()\n",
    "#    print(tbdat)\n",
    "    \n",
    "    tbdat_y_crop = []\n",
    "    tbdat_y_cropr = []\n",
    "    if(len(where_delete) != 0):\n",
    "        for i in range(len(tbdat)):\n",
    "            if (tbdat[i] > (minimum+tbdat[0])) and (tbdat[i] < (maximum+tbdat[0])):\n",
    "                tbdat_y_crop.append(tbdat[i])\n",
    "    tbdat_y_crop = np.reshape(tbdat_y_crop,(100,2048))\n",
    "#    print(len(tbdat_y_crop[0]))\n",
    "    tbdat_y_crop = np.delete(tbdat_y_crop,list(range(100,len(tbdat_y_crop[0]))),1)\n",
    "#    print(tbdat_y_crop)\n",
    "#    print(np.shape(tbdat_y_crop))\n",
    "    \n",
    "    \n",
    "    tbdat_final = np.asarray(tbdat_y_crop) #turns in numpy array\n",
    "    hdu = fits.PrimaryHDU(tbdat_final)\n",
    "    hdu.writeto(fwrite)"
   ]
  },
  {
   "cell_type": "code",
   "execution_count": 11,
   "metadata": {
    "collapsed": true
   },
   "outputs": [],
   "source": [
    "#puts all fits into np arrays\n",
    "hdux_array = ['hdu_list_x1', 'hdu_list_x2', 'hdu_list_x3', 'hdu_list_x4', 'hdu_list_x5', 'hdu_list_x6', 'hdu_list_x7' , 'hdu_list_x8']\n",
    "hduy_array = ['hdu_list_y1', 'hdu_list_y2', 'hdu_list_y3', 'hdu_list_y4', 'hdu_list_y5', 'hdu_list_y6', 'hdu_list_y7' , 'hdu_list_y8']\n",
    "filex_array = ['x.01.fits', 'x.02.fits', 'x.03.fits', 'x.04.fits', 'x.05.fits', 'x.06.fits', 'x.07.fits', 'x.08.fits']\n",
    "filey_array = ['y.01.fits', 'y.02.fits', 'y.03.fits', 'y.04.fits', 'y.05.fits', 'y.06.fits', 'y.07.fits', 'y.08.fits']\n",
    "tbdatx_array = ['tbdat_x1','tbdat_x2','tbdat_x3','tbdat_x4','tbdat_x5','tbdat_x6','tbdat_x7','tbdat_x8']\n",
    "tbdaty_array = ['tbdat_y1','tbdat_y2','tbdat_y3','tbdat_y4','tbdat_y5','tbdat_y6','tbdat_y7','tbdat_y8']"
   ]
  },
  {
   "cell_type": "code",
   "execution_count": 12,
   "metadata": {
    "collapsed": false
   },
   "outputs": [
    {
     "name": "stdout",
     "output_type": "stream",
     "text": [
      "x[0][0], y[0][0]: 0.0 0.0\n",
      "x[0][0], y[0][0]: 4.66850594259 5.04828867496\n",
      "x[0][0], y[0][0]: 7.27828866026 2.65856622777\n",
      "x[0][0], y[0][0]: 1.60340573264 7.751343469\n",
      "x[0][0], y[0][0]: 795.130535742 777.73440886\n",
      "x[0][0], y[0][0]: 799.798730854 782.783313465\n",
      "x[0][0], y[0][0]: 802.408660595 780.3936082\n",
      "x[0][0], y[0][0]: 796.734899714 785.588618379\n"
     ]
    }
   ],
   "source": [
    "for i in range(0,8):\n",
    "    hdux_array[i] = fits.open(filex_array[i])\n",
    "    hduy_array[i] = fits.open(filey_array[i])\n",
    "    tbdatx_array[i] = hdux_array[i][0].data\n",
    "    tbdaty_array[i] = hduy_array[i][0].data\n",
    "    print(\"x[0][0], y[0][0]:\", tbdatx_array[i][0][0], tbdaty_array[i][0][0]) #prints x(0) & y(0)"
   ]
  },
  {
   "cell_type": "code",
   "execution_count": 13,
   "metadata": {
    "collapsed": false
   },
   "outputs": [
    {
     "name": "stdout",
     "output_type": "stream",
     "text": [
      "x & y where all exposures exist: 7.27828866026 7.751343469\n"
     ]
    }
   ],
   "source": [
    "x_low = tbdatx_array[2][0][0]\n",
    "x_high = tbdatx_array[0][0][0] + 100\n",
    "y_low = tbdaty_array[3][0][0]\n",
    "y_high = tbdaty_array[0][0][0] + 100\n",
    "print(\"x & y where all exposures exist:\",x_low,y_low,) # For 4 exposures this is the corner of the square that all exposure cover."
   ]
  },
  {
   "cell_type": "code",
   "execution_count": 14,
   "metadata": {
    "collapsed": false
   },
   "outputs": [
    {
     "name": "stdout",
     "output_type": "stream",
     "text": [
      "[7.2782886602626604, 7.75134346899722] [2.6097827176724877, 2.7030547940404404] [0.0, 5.0927772412265995] [5.6748829276207289, 0.0]\n"
     ]
    }
   ],
   "source": [
    "exp1_adjust = []\n",
    "exp2_adjust = []\n",
    "exp3_adjust = []\n",
    "exp4_adjust = []\n",
    "exp1_adjust.append(x_low)\n",
    "exp1_adjust.append(y_low)\n",
    "exp2_adjust.append(translation_x(tbdatx_array,1))\n",
    "exp2_adjust.append(translation_y(tbdaty_array,1))\n",
    "exp3_adjust.append(translation_x(tbdatx_array,2))\n",
    "exp3_adjust.append(translation_y(tbdaty_array,2))\n",
    "exp4_adjust.append(translation_x(tbdatx_array,3))\n",
    "exp4_adjust.append(translation_y(tbdaty_array,3))\n",
    "\n",
    "\n",
    "print(exp1_adjust,exp2_adjust,exp3_adjust,exp4_adjust) #Pixel location for each exposure where start box encompased by all exposures    "
   ]
  },
  {
   "cell_type": "code",
   "execution_count": 218,
   "metadata": {
    "collapsed": false
   },
   "outputs": [],
   "source": [
    "fits_string_array_x = []\n",
    "fits_write_array_x = []\n",
    "for k in range(1,5):\n",
    "    fits_string_x = \"x.0\" + str(k) + \".fits\"\n",
    "    fits_string_array_x.append(fits_string_x) #creates array of all original pixel x locations filenames\n",
    "    fits_write_string_x = \"x.0\" + str(k) + \"_100.fits\"\n",
    "    fits_write_array_x.append(fits_write_string_x) #creates array of new pixel x locations filenames\n",
    "\n",
    "fits_string_array_y = []\n",
    "fits_write_array_y = []\n",
    "for k in range(1,5):\n",
    "    fits_string_y = \"y.0\" + str(k) + \".fits\"\n",
    "    fits_string_array_y.append(fits_string_y) #creates array of all original pixel y locations filenames\n",
    "    fits_write_string_y = \"y.0\" + str(k) + \"_100.fits\"\n",
    "    fits_write_array_y.append(fits_write_string_y) #creates array of new pixel y locations filenames\n",
    "    \n",
    "\n",
    "x_array = [exp1_adjust[0],exp2_adjust[0],exp3_adjust[0],exp4_adjust[0]]\n",
    "y_array = [exp1_adjust[1],exp2_adjust[1],exp3_adjust[1],exp4_adjust[1]]\n",
    "all_x_pixels = []\n",
    "all_y_pixels = []\n",
    "\n",
    "\n",
    "for j in range(0,4):\n",
    "    fname_x = fits_string_array_x[j]\n",
    "    fwrite_x = fits_write_array_x[j]\n",
    "    fname_y = fits_string_array_y[j]\n",
    "    fwrite_y = fits_write_array_y[j]\n",
    "    x = x_array[j]\n",
    "    y = y_array[j]\n",
    "    new_fits_x(fname_x,x,fwrite_x) #writes new 100 X 100 fits and starts pixel output locations\n",
    "    new_fits_y(fname_y,y,fwrite_y) #writes new 100 X 100 fits and starts pixel output locations)\n",
    "    "
   ]
  },
  {
   "cell_type": "code",
   "execution_count": 228,
   "metadata": {
    "collapsed": false
   },
   "outputs": [
    {
     "name": "stdout",
     "output_type": "stream",
     "text": [
      "[   8.    9.   10. ...,  105.  106.  107.]\n",
      "[   7.60334484    7.60334545    7.60334607 ...,  107.27828818  107.2782884\n",
      "  107.27828862]\n",
      "40000\n",
      "[[   7.66850594    8.27828866    8.66850594 ...,  106.27828862\n",
      "   106.66850591  107.27828862]\n",
      " [   7.66850554    8.27828844    8.66850554 ...,  106.2782884   106.6685055\n",
      "   107.2782884 ]\n",
      " [   7.66850513    8.27828822    8.66850513 ...,  106.27828818  106.6685051\n",
      "   107.27828818]\n",
      " ..., \n",
      " [   7.60334607    8.            8.60334607 ...,  106.          106.60334605\n",
      "   107.        ]\n",
      " [   7.60334545    8.            8.60334545 ...,  106.          106.60334543\n",
      "   107.        ]\n",
      " [   7.60334484    8.            8.60334484 ...,  106.          106.60334482\n",
      "   107.        ]]\n"
     ]
    }
   ],
   "source": [
    "hdu_list1 = fits.open('x.01_100.fits')\n",
    "tbdat1 = hdu_list1[0].data\n",
    "tbdat1 = tbdat1.flatten()\n",
    "hdu_list2 = fits.open('x.02_100.fits')\n",
    "tbdat2 = hdu_list2[0].data\n",
    "tbdat2 = tbdat2.flatten()\n",
    "hdu_list3 = fits.open('x.03_100.fits')\n",
    "tbdat3 = hdu_list3[0].data\n",
    "tbdat3 = tbdat3.flatten()\n",
    "hdu_list4 = fits.open('x.04_100.fits')\n",
    "tbdat4 = hdu_list4[0].data\n",
    "tbdat4 = tbdat4.flatten()\n",
    "print(tbdat1)\n",
    "\n",
    "tbdat_12 = np.append(tbdat1,tbdat2)\n",
    "tbdat_123 = np.append(tbdat12,tbdat3)\n",
    "tbdat_1234 = np.append(tbdat123,tbdat4)\n",
    "tbdat_1234 = np.sort(tbdat1234)\n",
    "print(tbdat_1234)\n",
    "print(len(tbdat_1234))\n",
    "\n",
    "tbdat_final = np.reshape(tbdat_1234,(200,200))\n",
    "tbdat_final = np.rot90(tbdat_final)\n",
    "\n",
    "print(tbdat_final)\n",
    "fname = 'x_out_100.fits'\n",
    "hdu = fits.PrimaryHDU(tbdat_final)\n",
    "hdu.writeto(fname)"
   ]
  },
  {
   "cell_type": "code",
   "execution_count": 225,
   "metadata": {
    "collapsed": false
   },
   "outputs": [
    {
     "name": "stdout",
     "output_type": "stream",
     "text": [
      "[   8.    8.    8. ...,  107.  107.  107.]\n",
      "[   7.60334484    7.60334545    7.60334607 ...,  107.27828818  107.2782884\n",
      "  107.27828862]\n",
      "40000\n",
      "[[   7.60334484    7.60334545    7.60334607 ...,    7.66850513\n",
      "     7.66850554    7.66850594]\n",
      " [   8.            8.            8.         ...,    8.27828822\n",
      "     8.27828844    8.27828866]\n",
      " [   8.60334484    8.60334545    8.60334607 ...,    8.66850513\n",
      "     8.66850554    8.66850594]\n",
      " ..., \n",
      " [ 106.          106.          106.         ...,  106.27828818  106.2782884\n",
      "   106.27828862]\n",
      " [ 106.60334482  106.60334543  106.60334605 ...,  106.6685051   106.6685055\n",
      "   106.66850591]\n",
      " [ 107.          107.          107.         ...,  107.27828818  107.2782884\n",
      "   107.27828862]]\n"
     ]
    }
   ],
   "source": [
    "hdu_list1 = fits.open('y.01_100.fits')\n",
    "tbdat1 = hdu_list1[0].data\n",
    "tbdat1 = tbdat1.flatten()\n",
    "hdu_list2 = fits.open('y.02_100.fits')\n",
    "tbdat2 = hdu_list2[0].data\n",
    "tbdat2 = tbdat2.flatten()\n",
    "hdu_list3 = fits.open('y.03_100.fits')\n",
    "tbdat3 = hdu_list3[0].data\n",
    "tbdat3 = tbdat3.flatten()\n",
    "hdu_list4 = fits.open('y.04_100.fits')\n",
    "tbdat4 = hdu_list4[0].data\n",
    "tbdat4 = tbdat4.flatten()\n",
    "print(tbdat1)\n",
    "\n",
    "tbdat_12 = np.append(tbdat1,tbdat2)\n",
    "tbdat_123 = np.append(tbdat12,tbdat3)\n",
    "tbdat_1234 = np.append(tbdat123,tbdat4)\n",
    "tbdat_1234 = np.sort(tbdat1234)\n",
    "print(tbdat_1234)\n",
    "print(len(tbdat_1234))\n",
    "\n",
    "tbdat_final = np.reshape(tbdat_1234,(200,200))\n",
    "\n",
    "print(tbdat_final)\n",
    "fname = 'y_out_100.fits'\n",
    "hdu = fits.PrimaryHDU(tbdat_final)\n",
    "hdu.writeto(fname)"
   ]
  },
  {
   "cell_type": "code",
   "execution_count": null,
   "metadata": {
    "collapsed": true
   },
   "outputs": [],
   "source": [
    "#Now resize actual images"
   ]
  }
 ],
 "metadata": {
  "kernelspec": {
   "display_name": "Python 2",
   "language": "python",
   "name": "python2"
  },
  "language_info": {
   "codemirror_mode": {
    "name": "ipython",
    "version": 2
   },
   "file_extension": ".py",
   "mimetype": "text/x-python",
   "name": "python",
   "nbconvert_exporter": "python",
   "pygments_lexer": "ipython2",
   "version": "2.7.12"
  }
 },
 "nbformat": 4,
 "nbformat_minor": 1
}
