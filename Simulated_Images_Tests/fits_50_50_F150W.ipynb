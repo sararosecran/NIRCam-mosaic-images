{
 "cells": [
  {
   "cell_type": "code",
   "execution_count": 1,
   "metadata": {
    "collapsed": true
   },
   "outputs": [],
   "source": [
    "import numpy as np"
   ]
  },
  {
   "cell_type": "code",
   "execution_count": 2,
   "metadata": {
    "collapsed": false
   },
   "outputs": [],
   "source": [
    "from astropy.io import fits"
   ]
  },
  {
   "cell_type": "code",
   "execution_count": 3,
   "metadata": {
    "collapsed": true
   },
   "outputs": [],
   "source": [
    "from __future__ import print_function"
   ]
  },
  {
   "cell_type": "code",
   "execution_count": 4,
   "metadata": {
    "collapsed": true
   },
   "outputs": [],
   "source": [
    "import os, sys"
   ]
  },
  {
   "cell_type": "code",
   "execution_count": 5,
   "metadata": {
    "collapsed": true
   },
   "outputs": [],
   "source": [
    "from os.path import expanduser\n",
    "home = expanduser(\"~\")"
   ]
  },
  {
   "cell_type": "code",
   "execution_count": 6,
   "metadata": {
    "collapsed": true
   },
   "outputs": [],
   "source": [
    "import shutil"
   ]
  },
  {
   "cell_type": "code",
   "execution_count": 7,
   "metadata": {
    "collapsed": true
   },
   "outputs": [],
   "source": [
    "import errno"
   ]
  },
  {
   "cell_type": "code",
   "execution_count": 8,
   "metadata": {
    "collapsed": false
   },
   "outputs": [
    {
     "name": "stdout",
     "output_type": "stream",
     "text": [
      "What directory would you like all files in? /Users/Sara/Documents/Research/JWST/F150W/\n"
     ]
    }
   ],
   "source": [
    "home_dir = raw_input('What directory would you like all files in? ')\n",
    "#example /Users/Sara/Documents/Research/JWST/F090W/"
   ]
  },
  {
   "cell_type": "markdown",
   "metadata": {},
   "source": [
    "# Functions"
   ]
  },
  {
   "cell_type": "code",
   "execution_count": 9,
   "metadata": {
    "collapsed": false
   },
   "outputs": [],
   "source": [
    "#function generates data from fits and cuts to designated size (e.g. 50 X 50) for images\n",
    "def cut_fits_to_size_image(tbdat,size, k, j):\n",
    "    length = len(tbdat[0])\n",
    "    tbdat = np.delete(tbdat, list(range(k+size,length)),0)\n",
    "    tbdat = np.delete(tbdat, list(range(0,len(tbdat)-size)),0)\n",
    "    tbdat = np.delete(tbdat, list(range(j+size,length)),1)\n",
    "    tbdat = np.delete(tbdat, list(range(0,len(tbdat[0])-size)),1)\n",
    "    tbdat = np.float64(tbdat)\n",
    "    return tbdat"
   ]
  },
  {
   "cell_type": "code",
   "execution_count": 10,
   "metadata": {
    "collapsed": true
   },
   "outputs": [],
   "source": [
    "#function generates data from fits and cuts to designated size (e.g. 50 X 50) for pixel locations\n",
    "def cut_fits_to_size_pix(tbdat,size,pixel_size):\n",
    "    length = len(tbdat[0])\n",
    "    tbdat = np.delete(tbdat, list(range(size,length)),0)\n",
    "    tbdat = np.delete(tbdat, list(range(size,length)),1)\n",
    "    tbdat = tbdat*pixel_size\n",
    "    tbdat = np.float64(tbdat)\n",
    "    return tbdat"
   ]
  },
  {
   "cell_type": "code",
   "execution_count": 11,
   "metadata": {
    "collapsed": true
   },
   "outputs": [],
   "source": [
    "#function cuts 50 X 50 output pixel location to designated size\n",
    "def cut_fits_to_size_pix_out(tbdat,size):\n",
    "    length = len(tbdat[0])\n",
    "    tbdat = np.delete(tbdat, list(range(size,length)),0)\n",
    "    tbdat = np.delete(tbdat, list(range(size,length)),1)\n",
    "    tbdat = np.float64(tbdat) #no need to multiply by pixel_size as it's already done\n",
    "    return tbdat"
   ]
  },
  {
   "cell_type": "markdown",
   "metadata": {},
   "source": [
    "# Generates Folders"
   ]
  },
  {
   "cell_type": "code",
   "execution_count": 12,
   "metadata": {
    "collapsed": false
   },
   "outputs": [],
   "source": [
    "os.chdir(home_dir)\n",
    "for i in range(0,40):\n",
    "    path = \"line_\" + str(i)\n",
    "    os.mkdir(path)\n",
    "for j in range(0,40):\n",
    "    for k in range(0,40):\n",
    "        path1 =\"line_\" + str(j)\n",
    "        path2 = str(j) + \"_\" + str(k)\n",
    "        os.chdir(path1)\n",
    "        os.mkdir(path2)\n",
    "        os.chdir(home_dir)\n"
   ]
  },
  {
   "cell_type": "markdown",
   "metadata": {},
   "source": [
    "# Used for 51X51 size images"
   ]
  },
  {
   "cell_type": "code",
   "execution_count": 13,
   "metadata": {
    "collapsed": false
   },
   "outputs": [],
   "source": [
    "os.chdir(home_dir)\n",
    "size = 51\n",
    "fname_in_1 = 'simple_sim_cube_F150W_487_01.slp.fits'\n",
    "fname_out_1 = fname_in_1\n",
    "fname_in_2 = 'simple_sim_cube_F150W_487_02.slp.fits'\n",
    "fname_out_2 = fname_in_2\n",
    "fname_in_3 = 'simple_sim_cube_F150W_487_03.slp.fits'\n",
    "fname_out_3 = fname_in_3\n",
    "fname_in_4 = 'simple_sim_cube_F150W_487_04.slp.fits'\n",
    "fname_out_4 = fname_in_4"
   ]
  },
  {
   "cell_type": "code",
   "execution_count": 14,
   "metadata": {
    "collapsed": false
   },
   "outputs": [],
   "source": [
    "os.chdir(home_dir)\n",
    "\n",
    "j = n = 0\n",
    "while j < 2000:\n",
    "    k = 0\n",
    "    m = 0\n",
    "    while k < 2000:\n",
    "        path1 =\"line_\" + str(n)\n",
    "        path2 = str(n) + \"_\" + str(m)\n",
    "        os.chdir(path1)\n",
    "        os.chdir(path2)\n",
    "        path3 = home_dir + fname_in_1\n",
    "        path4 = os.path.join(os.getcwd()+\"/\" +fname_in_1)\n",
    "        try:\n",
    "            os.symlink(path3, path4)\n",
    "        except OSError, e:\n",
    "            if e.errno == errno.EEXIST:\n",
    "                os.remove(fname_in_1)\n",
    "                os.symlink(path3, path4)\n",
    "        hdu_list = fits.open(fname_in_1)\n",
    "        tbdat = hdu_list[0].data\n",
    "        hdu_list.close()\n",
    "        tbdat = cut_fits_to_size_image(tbdat, size, k, j)\n",
    "        fname_out_50 = '50_' + str(n) + \"_\" + str(m) + fname_out_1\n",
    "        hdu = fits.PrimaryHDU(tbdat)\n",
    "        hdu.writeto(fname_out_50, clobber=True)\n",
    "        os.chdir(home_dir)\n",
    "        k += (size-1)\n",
    "        m += 1\n",
    "    j += (size-1)\n",
    "    n += 1"
   ]
  },
  {
   "cell_type": "code",
   "execution_count": 15,
   "metadata": {
    "collapsed": true
   },
   "outputs": [],
   "source": [
    "os.chdir(home_dir)\n",
    "\n",
    "j = n = 0\n",
    "while j < 2000:\n",
    "    k = 0\n",
    "    m = 0\n",
    "    while k < 2000:\n",
    "        path1 =\"line_\" + str(n)\n",
    "        path2 = str(n) + \"_\" + str(m)\n",
    "        os.chdir(path1)\n",
    "        os.chdir(path2)\n",
    "        path3 = home_dir + fname_in_2\n",
    "        path4 = os.path.join(os.getcwd()+\"/\" +fname_in_2)\n",
    "        try:\n",
    "            os.symlink(path3, path4)\n",
    "        except OSError, e:\n",
    "            if e.errno == errno.EEXIST:\n",
    "                os.remove(fname_in_2)\n",
    "                os.symlink(path3, path4)\n",
    "        hdu_list = fits.open(fname_in_2)\n",
    "        tbdat = hdu_list[0].data\n",
    "        hdu_list.close()\n",
    "        tbdat = cut_fits_to_size_image(tbdat, size, k, j)\n",
    "        fname_out_50 = '50_' + str(n) + \"_\" + str(m) + fname_out_2\n",
    "        hdu = fits.PrimaryHDU(tbdat)\n",
    "        hdu.writeto(fname_out_50, clobber=True)\n",
    "        os.chdir(home_dir)\n",
    "        k += (size-1)\n",
    "        m += 1\n",
    "    j += (size-1)\n",
    "    n += 1"
   ]
  },
  {
   "cell_type": "code",
   "execution_count": 16,
   "metadata": {
    "collapsed": true
   },
   "outputs": [],
   "source": [
    "os.chdir(home_dir)\n",
    "\n",
    "j = n = 0\n",
    "while j < 2000:\n",
    "    k = 0\n",
    "    m = 0\n",
    "    while k < 2000:\n",
    "        path1 =\"line_\" + str(n)\n",
    "        path2 = str(n) + \"_\" + str(m)\n",
    "        os.chdir(path1)\n",
    "        os.chdir(path2)\n",
    "        path3 = home_dir + fname_in_3\n",
    "        path4 = os.path.join(os.getcwd()+\"/\" +fname_in_3)\n",
    "        try:\n",
    "            os.symlink(path3, path4)\n",
    "        except OSError, e:\n",
    "            if e.errno == errno.EEXIST:\n",
    "                os.remove(fname_in_3)\n",
    "                os.symlink(path3, path4)\n",
    "        hdu_list = fits.open(fname_in_3)\n",
    "        tbdat = hdu_list[0].data\n",
    "        hdu_list.close()\n",
    "        tbdat = cut_fits_to_size_image(tbdat, size, k, j)\n",
    "        fname_out_50 = '50_' + str(n) + \"_\" + str(m) + fname_out_3\n",
    "        hdu = fits.PrimaryHDU(tbdat)\n",
    "        hdu.writeto(fname_out_50, clobber=True)\n",
    "        os.chdir(home_dir)\n",
    "        k += (size-1)\n",
    "        m += 1\n",
    "    j += (size-1)\n",
    "    n += 1"
   ]
  },
  {
   "cell_type": "code",
   "execution_count": 17,
   "metadata": {
    "collapsed": true
   },
   "outputs": [],
   "source": [
    "os.chdir(home_dir)\n",
    "\n",
    "j = n = 0\n",
    "while j < 2000:\n",
    "    k = 0\n",
    "    m = 0\n",
    "    while k < 2000:\n",
    "        path1 =\"line_\" + str(n)\n",
    "        path2 = str(n) + \"_\" + str(m)\n",
    "        os.chdir(path1)\n",
    "        os.chdir(path2)\n",
    "        path3 = home_dir + fname_in_4\n",
    "        path4 = os.path.join(os.getcwd()+\"/\" +fname_in_4)\n",
    "        try:\n",
    "            os.symlink(path3, path4)\n",
    "        except OSError, e:\n",
    "            if e.errno == errno.EEXIST:\n",
    "                os.remove(fname_in_4)\n",
    "                os.symlink(path3, path4)\n",
    "        hdu_list = fits.open(fname_in_4)\n",
    "        tbdat = hdu_list[0].data\n",
    "        hdu_list.close()\n",
    "        tbdat = cut_fits_to_size_image(tbdat, size, k, j)\n",
    "        fname_out_50 = '50_' + str(n) + \"_\" + str(m) + fname_out_4\n",
    "        hdu = fits.PrimaryHDU(tbdat)\n",
    "        hdu.writeto(fname_out_50, clobber=True)\n",
    "        os.chdir(home_dir)\n",
    "        k += (size-1)\n",
    "        m += 1\n",
    "    j += (size-1)\n",
    "    n += 1"
   ]
  },
  {
   "cell_type": "markdown",
   "metadata": {},
   "source": [
    "# Used for 51X51 pixel location fits"
   ]
  },
  {
   "cell_type": "code",
   "execution_count": 18,
   "metadata": {
    "collapsed": false
   },
   "outputs": [],
   "source": [
    "size = 51\n",
    "pixel_size = 0.03112782804\n",
    "fname_in_array = ('x.01.fits', 'x.02.fits', 'x.03.fits', 'x.04.fits', 'y.01.fits', 'y.02.fits', 'y.03.fits', 'y.04.fits')\n",
    "os.chdir(home_dir)\n",
    "\n",
    "z = 0\n",
    "for z in range(len(fname_in_array)):\n",
    "    j = n = 0\n",
    "    while j < 2000:\n",
    "        k = 0\n",
    "        m = 0\n",
    "        while k < 2000:\n",
    "            path1 =\"line_\" + str(n)\n",
    "            path2 = str(n) + \"_\" + str(m)\n",
    "            os.chdir(path1)\n",
    "            os.chdir(path2)\n",
    "            path3 = home_dir + fname_in_array[z]\n",
    "            path4 = os.path.join(os.getcwd()+\"/\" +fname_in_array[z])\n",
    "            try:\n",
    "                os.symlink(path3, path4)\n",
    "            except OSError, e:\n",
    "                if e.errno == errno.EEXIST:\n",
    "                    os.remove(fname_in_array[z])\n",
    "                    os.symlink(path3, path4)\n",
    "            hdu_list = fits.open(fname_in_array[z])\n",
    "            tbdat = hdu_list[0].data\n",
    "            hdu_list.close()\n",
    "            tbdat = cut_fits_to_size_pix(tbdat, size, pixel_size)\n",
    "            fname_out = '50_' + fname_in_array[z]\n",
    "            hdu = fits.PrimaryHDU(tbdat)\n",
    "            hdu.writeto(fname_out, clobber = True)\n",
    "            os.chdir(home_dir)\n",
    "            k += (size-1)\n",
    "            m += 1\n",
    "        j += (size-1)\n",
    "        n += 1"
   ]
  },
  {
   "cell_type": "markdown",
   "metadata": {
    "collapsed": true
   },
   "source": [
    "# Creates 50X50 output pixel location fits"
   ]
  },
  {
   "cell_type": "code",
   "execution_count": 19,
   "metadata": {
    "collapsed": false
   },
   "outputs": [],
   "source": [
    "#x_out\n",
    "fname_in = 'x_out_4exp_100.fits'\n",
    "os.chdir(home_dir)\n",
    "j = n = 0\n",
    "while j < 2000:\n",
    "    k = 0\n",
    "    m = 0\n",
    "    while k < 2000:\n",
    "        path1 =\"line_\" + str(n)\n",
    "        path2 = str(n) + \"_\" + str(m)\n",
    "        os.chdir(path1)\n",
    "        os.chdir(path2)\n",
    "        path3 = home_dir + fname_in\n",
    "        path4 = os.path.join(os.getcwd()+\"/\" +fname_in)\n",
    "        try:\n",
    "            os.symlink(path3, path4)\n",
    "        except OSError, e:\n",
    "            if e.errno == errno.EEXIST:\n",
    "                os.remove(fname_in)\n",
    "                os.symlink(path3, path4)\n",
    "        hdu_list = fits.open(fname_in)\n",
    "        tbdat = hdu_list[0].data\n",
    "        hdu_list.close()\n",
    "        size = 50\n",
    "        tbdat = cut_fits_to_size_pix_out(tbdat, size)\n",
    "        hdu=fits.PrimaryHDU(tbdat)\n",
    "        hdu.writeto('x_out_4exp_50.fits', clobber = True)\n",
    "        os.chdir(home_dir)\n",
    "        k += (size)\n",
    "        m += 1\n",
    "    j += (size)\n",
    "    n += 1\n",
    "\n",
    "#y_out\n",
    "fname_in = 'y_out_4exp_100.fits'\n",
    "os.chdir(home_dir)\n",
    "j = n = 0\n",
    "while j < 2000:\n",
    "    k = 0\n",
    "    m = 0\n",
    "    while k < 2000:\n",
    "        path1 =\"line_\" + str(n)\n",
    "        path2 = str(n) + \"_\" + str(m)\n",
    "        os.chdir(path1)\n",
    "        os.chdir(path2)\n",
    "        path3 = home_dir + fname_in\n",
    "        path4 = os.path.join(os.getcwd()+\"/\" +fname_in)\n",
    "        try:\n",
    "            os.symlink(path3, path4)\n",
    "        except OSError, e:\n",
    "            if e.errno == errno.EEXIST:\n",
    "                os.remove(fname_in)\n",
    "                os.symlink(path3, path4)\n",
    "        hdu_list = fits.open(fname_in)\n",
    "        tbdat = hdu_list[0].data\n",
    "        hdu_list.close()\n",
    "        size = 50\n",
    "        tbdat = cut_fits_to_size_pix_out(tbdat, size)\n",
    "        hdu=fits.PrimaryHDU(tbdat)\n",
    "        hdu.writeto('y_out_4exp_50.fits', clobber = True)\n",
    "        os.chdir(home_dir)\n",
    "        k += (size)\n",
    "        m += 1\n",
    "    j += (size)\n",
    "    n += 1"
   ]
  },
  {
   "cell_type": "markdown",
   "metadata": {},
   "source": [
    "# Generates config files"
   ]
  },
  {
   "cell_type": "code",
   "execution_count": 20,
   "metadata": {
    "collapsed": false
   },
   "outputs": [],
   "source": [
    "os.chdir(home_dir)\n",
    "j = n = 0\n",
    "while j < 2000:\n",
    "    k = 0\n",
    "    m = 0\n",
    "    while k < 2000:\n",
    "        path1 =\"line_\" + str(n)\n",
    "        path2 = str(n) + \"_\" + str(m)\n",
    "        os.chdir(path1)\n",
    "        os.chdir(path2)\n",
    "        filename = 'config_' + str(n)+ \"_\" + str(m)\n",
    "        with open(filename, 'w') as f:\n",
    "            for i in range(1,3):\n",
    "                f.write(\"PSFXSCALE   0.0039625 \\n\")\n",
    "            f.write(\"NEXP        4 \\n\")\n",
    "            f.write(\"USERXY      1 \\n\")\n",
    "            for l in range(1,5):\n",
    "                string = 'INCONFIG' + str(l) + '   ' + 'config.input' + str(l) + '_' + str(n) + \"_\"+ str(m) + '\\n'\n",
    "                f.write(string)\n",
    "            string = 'OUTCONFIG' + '   ' + 'config.output_' + str(n) + \"_\" + str(m) + '\\n'\n",
    "            f.write(string)\n",
    "            string = 'AFILE' + '       ' + 'NONE' + '\\n'\n",
    "            f.write(string)\n",
    "            string = 'BFILE' + '       ' + 'NONE' + '\\n'\n",
    "            f.write(string)\n",
    "            string = 'QFILE' + '       ' + 'NONE' + '\\n'\n",
    "            f.write(string)\n",
    "            string = 'LFILE' + '       ' + 'NONE' + '\\n'\n",
    "            f.write(string)\n",
    "            string = 'PFILE' + '       ' + 'NONE' + '\\n'\n",
    "            f.write(string)\n",
    "        os.chdir(home_dir)\n",
    "        k += (size)\n",
    "        m += 1\n",
    "    j += (size)\n",
    "    n += 1"
   ]
  },
  {
   "cell_type": "markdown",
   "metadata": {},
   "source": [
    "# Generates input1 files"
   ]
  },
  {
   "cell_type": "code",
   "execution_count": 21,
   "metadata": {
    "collapsed": false
   },
   "outputs": [],
   "source": [
    "os.chdir(home_dir)\n",
    "j = n = 0\n",
    "while j < 2000:\n",
    "    k = 0\n",
    "    m = 0\n",
    "    while k < 2000:\n",
    "        path1 =\"line_\" + str(n)\n",
    "        path2 = str(n) + \"_\" + str(m)\n",
    "        os.chdir(path1)\n",
    "        os.chdir(path2)\n",
    "        filename = 'config.input1_' + str(n) + '_' + str(m)\n",
    "        with open(filename, 'w') as f:\n",
    "            f.write(\"PSFFILE     F090W_flat_1024_1_webbpsf.fits \\n\")\n",
    "            string = 'GIMFILE' + '     ' + '50_' + str(n) + '_' + str(m) + 'simple_sim_cube_F090W_487_01.slp.fits' + '\\n'\n",
    "            f.write(string)\n",
    "            f.write(\"ROTANGDEG   0.000000 \\n\")\n",
    "            f.write(\"NOISE       1.0000000 \\n\")\n",
    "            f.write(\"GIMXFILE    50_x.01.fits \\n\")\n",
    "            f.write(\"GIMYFILE    50_y.01.fits \\n\")\n",
    "        os.chdir(home_dir)\n",
    "        k += (size)\n",
    "        m += 1\n",
    "    j += (size)\n",
    "    n += 1"
   ]
  },
  {
   "cell_type": "markdown",
   "metadata": {},
   "source": [
    "# Generates input2 files"
   ]
  },
  {
   "cell_type": "code",
   "execution_count": 22,
   "metadata": {
    "collapsed": false
   },
   "outputs": [],
   "source": [
    "os.chdir(home_dir)\n",
    "j = n = 0\n",
    "while j < 2000:\n",
    "    k = 0\n",
    "    m = 0\n",
    "    while k < 2000:\n",
    "        path1 =\"line_\" + str(n)\n",
    "        path2 = str(n) + \"_\" + str(m)\n",
    "        os.chdir(path1)\n",
    "        os.chdir(path2)\n",
    "        filename = 'config.input2_' + str(n) + \"_\" + str(m)\n",
    "        with open(filename, 'w') as f:\n",
    "            f.write(\"PSFFILE     F090W_flat_1024_1_webbpsf.fits \\n\")\n",
    "            string = 'GIMFILE' + '     ' + '50_' + str(n) + '_' + str(m) + 'simple_sim_cube_F090W_487_02.slp.fits' + '\\n'\n",
    "            f.write(string)\n",
    "            f.write(\"ROTANGDEG   0.000000 \\n\")\n",
    "            f.write(\"NOISE       1.0000000 \\n\")\n",
    "            f.write(\"GIMXFILE    50_x.02.fits \\n\")\n",
    "            f.write(\"GIMYFILE    50_y.02.fits \\n\")\n",
    "        os.chdir(home_dir)\n",
    "        k += (size)\n",
    "        m += 1\n",
    "    j += (size)\n",
    "    n += 1"
   ]
  },
  {
   "cell_type": "markdown",
   "metadata": {},
   "source": [
    "# Generates input3 files"
   ]
  },
  {
   "cell_type": "code",
   "execution_count": 23,
   "metadata": {
    "collapsed": true
   },
   "outputs": [],
   "source": [
    "os.chdir(home_dir)\n",
    "j = n = 0\n",
    "while j < 2000:\n",
    "    k = 0\n",
    "    m = 0\n",
    "    while k < 2000:\n",
    "        path1 =\"line_\" + str(n)\n",
    "        path2 = str(n) + \"_\" + str(m)\n",
    "        os.chdir(path1)\n",
    "        os.chdir(path2)\n",
    "        filename = 'config.input3_' + str(n) + '_' + str(m)\n",
    "        with open(filename, 'w') as f:\n",
    "            f.write(\"PSFFILE     F090W_flat_1024_1_webbpsf.fits \\n\")\n",
    "            string = 'GIMFILE' + '     ' + '50_' + str(n) + '_' + str(m) + 'simple_sim_cube_F090W_487_03.slp.fits' + '\\n'\n",
    "            f.write(string)\n",
    "            f.write(\"ROTANGDEG   0.000000 \\n\")\n",
    "            f.write(\"NOISE       1.0000000 \\n\")\n",
    "            f.write(\"GIMXFILE    50_x.03.fits \\n\")\n",
    "            f.write(\"GIMYFILE    50_y.03.fits \\n\")\n",
    "        os.chdir(home_dir)\n",
    "        k += (size)\n",
    "        m += 1\n",
    "    j += (size)\n",
    "    n += 1"
   ]
  },
  {
   "cell_type": "markdown",
   "metadata": {},
   "source": [
    "# Generates input4 files"
   ]
  },
  {
   "cell_type": "code",
   "execution_count": 24,
   "metadata": {
    "collapsed": true
   },
   "outputs": [],
   "source": [
    "os.chdir(home_dir)\n",
    "j = n = 0\n",
    "while j < 2000:\n",
    "    k = 0\n",
    "    m = 0\n",
    "    while k < 2000:\n",
    "        path1 =\"line_\" + str(n)\n",
    "        path2 = str(n) + \"_\" + str(m)\n",
    "        os.chdir(path1)\n",
    "        os.chdir(path2)\n",
    "        filename = 'config.input4_' + str(n) + '_' + str(m)\n",
    "        with open(filename, 'w') as f:\n",
    "            f.write(\"PSFFILE     F090W_flat_1024_1_webbpsf.fits \\n\")\n",
    "            string = 'GIMFILE' + '     ' + '50_' + str(n) + '_' + str(m) + 'simple_sim_cube_F090W_487_04.slp.fits' + '\\n'\n",
    "            f.write(string)\n",
    "            f.write(\"ROTANGDEG   0.000000 \\n\")\n",
    "            f.write(\"NOISE       1.0000000 \\n\")\n",
    "            f.write(\"GIMXFILE    50_x.04.fits \\n\")\n",
    "            f.write(\"GIMYFILE    50_y.04.fits \\n\")\n",
    "        os.chdir(home_dir)\n",
    "        k += (size)\n",
    "        m += 1\n",
    "    j += (size)\n",
    "    n += 1"
   ]
  },
  {
   "cell_type": "markdown",
   "metadata": {},
   "source": [
    "# Generates output files"
   ]
  },
  {
   "cell_type": "code",
   "execution_count": 25,
   "metadata": {
    "collapsed": false
   },
   "outputs": [],
   "source": [
    "os.chdir(home_dir)\n",
    "j = n = 0\n",
    "while j < 2000:\n",
    "    k = 0\n",
    "    m = 0\n",
    "    while k < 2000:\n",
    "        path1 =\"line_\" + str(n)\n",
    "        path2 = str(n) + \"_\" + str(m)\n",
    "        os.chdir(path1)\n",
    "        os.chdir(path2)\n",
    "        filename = 'config.output_' + str(n) + '_' + str(m)\n",
    "        with open(filename, 'w') as f:\n",
    "            f.write(\"GAMFILE     F090W_flat_1024_1_webbpsf.fits \\n\")\n",
    "            string = 'OUTFILE' + '     ' + 'H' + str(n) + '_' + str(m) + '.fits' + '\\n'\n",
    "            f.write(string)\n",
    "            string = 'KFILE' + '       ' + 'K'  + str(n) + '_' + str(m) +  '.fits' + '\\n'\n",
    "            f.write(string)\n",
    "            string = 'TFILE' + '       ' + 'T'  + str(n) + '_' + str(m) +  '.fits' + '\\n'\n",
    "            f.write(string)\n",
    "            string = 'SFILE' + '       ' + 'S'  + str(n) + '_' + str(m) +  '.fits' + '\\n'\n",
    "            f.write(string)\n",
    "            string = 'UFILE' + '       ' + 'U'  + str(n) + '_' + str(m) +  '.fits' + '\\n'\n",
    "            f.write(string)\n",
    "            f.write(\"OUTXFILE    x_out_4exp_50.fits \\n\")\n",
    "            f.write(\"OUTYFILE    y_out_4exp_50.fits \\n\")\n",
    "        os.chdir(home_dir)\n",
    "        k += (size)\n",
    "        m += 1\n",
    "    j += (size)\n",
    "    n += 1"
   ]
  },
  {
   "cell_type": "code",
   "execution_count": null,
   "metadata": {
    "collapsed": true
   },
   "outputs": [],
   "source": []
  }
 ],
 "metadata": {
  "kernelspec": {
   "display_name": "Python 2",
   "language": "python",
   "name": "python2"
  },
  "language_info": {
   "codemirror_mode": {
    "name": "ipython",
    "version": 2
   },
   "file_extension": ".py",
   "mimetype": "text/x-python",
   "name": "python",
   "nbconvert_exporter": "python",
   "pygments_lexer": "ipython2",
   "version": "2.7.10"
  }
 },
 "nbformat": 4,
 "nbformat_minor": 1
}
