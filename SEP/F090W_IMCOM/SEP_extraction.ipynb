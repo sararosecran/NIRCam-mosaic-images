{
 "cells": [
  {
   "cell_type": "code",
   "execution_count": 1,
   "metadata": {
    "collapsed": true
   },
   "outputs": [],
   "source": [
    "#SEP test"
   ]
  },
  {
   "cell_type": "code",
   "execution_count": 2,
   "metadata": {
    "collapsed": false
   },
   "outputs": [],
   "source": [
    "import numpy as np\n",
    "import sep\n",
    "from astropy.io import fits\n",
    "import matplotlib.pyplot as plt\n",
    "from matplotlib.patches import Ellipse"
   ]
  },
  {
   "cell_type": "markdown",
   "metadata": {},
   "source": [
    "# Functions"
   ]
  },
  {
   "cell_type": "code",
   "execution_count": 3,
   "metadata": {
    "collapsed": true
   },
   "outputs": [],
   "source": [
    "# returns the indices of a list in descending order\n",
    "def sort_reverse_index(x):\n",
    "        return sorted(range(len(x)), key=lambda k: x.max()-x[k])"
   ]
  },
  {
   "cell_type": "code",
   "execution_count": 17,
   "metadata": {
    "collapsed": true
   },
   "outputs": [],
   "source": [
    "#imports fits and puts into numpy array\n",
    "def load_fits(filename):\n",
    "    hdu_list = fits.open(filename, do_not_scale_image_data=True)\n",
    "    tbdat = hdu_list[0].data\n",
    "    tbdat = tbdat.byteswap().newbyteorder()\n",
    "    return tbdat"
   ]
  },
  {
   "cell_type": "markdown",
   "metadata": {},
   "source": [
    "The zero function finds the \"zero point\". The zero point it the magnitude of an object that produces one count per second. This value 'ABMAG' pulled from the fits header information."
   ]
  },
  {
   "cell_type": "code",
   "execution_count": 5,
   "metadata": {
    "collapsed": true
   },
   "outputs": [],
   "source": [
    "#function gives zero point from exposure 1. All exposures should have the same zero point.\n",
    "def zero(filename):\n",
    "    hdu_list = fits.open(filename, do_not_scale_image_data=True)\n",
    "    zero_point = hdu_list[0].header['ABMAG']\n",
    "    return zero_point"
   ]
  },
  {
   "cell_type": "code",
   "execution_count": 14,
   "metadata": {
    "collapsed": true
   },
   "outputs": [],
   "source": [
    "#subtracts background from image\n",
    "def subtraction(tbdat, bkg):\n",
    "    bkg_rms = bkg.rms()\t#background noise as 2d array\n",
    "    tbdat_sub = tbdat - bkg #subtract background\n",
    "    return tbdat_sub"
   ]
  },
  {
   "cell_type": "markdown",
   "metadata": {},
   "source": [
    "The extraction function below performs the actual extraction on the image from which the background has been subtracted. There are several options that can be input here. They are:\n",
    "    * Thresh - The detection threshold. A detected object is distinguished at this threshold (e.g 5.0*err).\n",
    "    * err - In the below example is the global rms. "
   ]
  },
  {
   "cell_type": "code",
   "execution_count": 27,
   "metadata": {
    "collapsed": true
   },
   "outputs": [],
   "source": [
    "#perform the extraction\n",
    "def extraction(tbdat_sub, bkg):\n",
    "    objects = sep.extract(tbdat_sub, thresh = 5.0, err = bkg.globalrms)\n",
    "    return objects"
   ]
  },
  {
   "cell_type": "markdown",
   "metadata": {},
   "source": [
    "The kron_info function below returns the Kron radius within an ellipse and any flags associated. The Kron radius is defined by Barbary (2016) as:\n",
    "$$\\sum_{i} r_{i}I(r_{i})/\\sum_{i}I(r_{i})$$,\n",
    "where $r_{i}$ is the distance to the pixel from the ellipse. The Kron aperature photometry is a proposed technique that captures the majority of the flux. $r$ in the function is the ellipse radius which is integrated over. \n"
   ]
  },
  {
   "cell_type": "code",
   "execution_count": 8,
   "metadata": {
    "collapsed": true
   },
   "outputs": [],
   "source": [
    "#Gets kron radius information\n",
    "def kron_info(objects, tbdat_sub):\n",
    "    kronrad, kronflag = sep.kron_radius(tbdat_sub, objects['x'], objects['y'], objects['a'], objects['b'], objects['theta'], r=6.0)\n",
    "    return kronrad, kronflag\n"
   ]
  },
  {
   "cell_type": "markdown",
   "metadata": {},
   "source": [
    "The find_flux function below finds the flux, flux errors, and extraction flags from the background subtracted image. An elliptical apeture is used unless the $kr\\sqrt{a * b}$ is smaller than a given radius, where kr, a, and b are the kron radius, semi-major, and semi-minor axes respectively. Then a circular appature is used. \n",
    "\n",
    "The sum_ellipse and sum_circle functions utalize the following inputs:\n",
    "    * pho_auto_A - Scaling factor for a and b\n",
    "    * subpix - subpixel sampling?\n",
    "The flux error is calculated by\n",
    "$$ \\sigma^{2}_{F} = \\sum_{i}\\sigma^{2}_{i} + F/g$$\n",
    "where $\\sigma_i$ is the pixel noise, F is the sum in the aperature, and g is the gain.\n",
    "\n",
    "The process of finding the Kron radius, performing elliptical aperature phtometry, and then circular aperture photomety (if kr is too small) is equivilent to FLUX_AUTO in SExtractor.\n",
    "    \n",
    "The flux_radius function returns the radius of a circle enclosing fraction of total flux (analogous to Kron radius for ellipse?). Inputs include:\n",
    "    * frac - Requested fraction of light (0-1). E.g. frac=0.5 would give the radius of a circle contining half the      total flux of the object.\n",
    "    * rmax - Max radius to analyze\n",
    "    * normflux - a normalizing flux, rmax is used if not given\n",
    "    \n",
    "The winpos function returns paramteres used to get more accurate object centroid. From documentation: \"On each iteration, the centroid is calculated using all pixels within a circular aperture of 4*sig from the current position, weighting pixel positions by their flux and the amplitude of a 2-d Gaussian with sigma sig. Iteration stops when the change in position falls under some threshold or a maximum number of iterations is reached.\" Sigma for the Gaussian is 2.0 / (2.35 * half light radius). "
   ]
  },
  {
   "cell_type": "code",
   "execution_count": 29,
   "metadata": {
    "collapsed": true
   },
   "outputs": [],
   "source": [
    "#Finds flux, flux error, and extraction flags\n",
    "def find_flux(tbdat_sub, bkg, objects, kronrad, kronflag):\n",
    "    flux, fluxerr, flag = sep.sum_ellipse(tbdat_sub, objects['x'], objects['y'], objects['a'], objects['b'], objects['theta'], pho_auto_A = (2.5*kronrad), err = bkg.globalrms, subpix=1)\n",
    "    flag |=kronflag #combines all flags\n",
    "    r_min = 1.75 #minimum diameter = 3.5\n",
    "    use_circle = kronrad * np.sqrt(a * b) < r_min\n",
    "    cflux, cfluxerr, cflag = sep.sum_circle(tbdat_sub, objects['x'][use_circle], objects['y'][use_circle], r_min, subpix=1)\n",
    "    flux[use_circle] = cflux\n",
    "    fluxerr[use_circle] = cfluxerr\n",
    "    flag[use_circle] = cflag\n",
    "    r, rflag = sep.flux_radius(data, x, y, rmax = 6.0*objects['a'], frac = 0.5, normflux = flux, subpix =5)\n",
    "    sig = 2.0 / (2.35*r) # r from sep.flux_radius() above, with fluxfrac = 0.5\n",
    "    xwin, ywin, wflag = sep.winpos(tbdat_sub, objects['x'], objects['y'], sig)\n",
    "    return flux, fluxerr, flag, r, xwin, ywin\n"
   ]
  },
  {
   "cell_type": "code",
   "execution_count": 10,
   "metadata": {
    "collapsed": true
   },
   "outputs": [],
   "source": [
    "#convert extraction flux to AB magnitude\n",
    "def magnitude(flux, zero_point):\n",
    "    -2.5*np.log10(flux) + zero_point"
   ]
  },
  {
   "cell_type": "code",
   "execution_count": 11,
   "metadata": {
    "collapsed": true
   },
   "outputs": [],
   "source": [
    "#reads in catalog used to generated exposures and puts info into arrays\n",
    "def read_cat(filename):\n",
    "    f = open(filename, \"r\")\n",
    "    line = f.readlines()\n",
    "    f.close()\n",
    "    num_cat = np.array([])\n",
    "    ra_cat = np.array([])\n",
    "    dec_cat = np.array([])\n",
    "    mag_cat = np.array([])\n",
    "    z_cat = np.array([])\n",
    "    s_cat = np.array([])\n",
    "    for i in range(len(line)):\n",
    "        num_cat = np.append(num_cat, int(line[i].split()[0]))\n",
    "        ra_cat = np.append(ra_cat, float(line[i].split()[1]))\n",
    "        dec_cat = np.append(dec_cat, float(line[i].split()[2]))\n",
    "        mag_cat = np.append(mag_cat, float(line[i].split()[3]))\n",
    "        z_cat = np.append(z_cat, float(line[i].split()[4]))\n",
    "        s_cat = np.append(s_cat, float(line[i].split()[9]))\n",
    "    return num_cat, ra_cat, dec_cat, mag_cat, z_cat, s_cat"
   ]
  },
  {
   "cell_type": "code",
   "execution_count": 12,
   "metadata": {
    "collapsed": false
   },
   "outputs": [],
   "source": [
    "#convert ra and dec from exposure 1 to pixel location\n",
    "def world_exp(filename, objects):\n",
    "    hdu_list = fits.open(filename)\n",
    "    w = wcs.WCS(hdu_list[0].header)\n",
    "    hdu_list.close()\n",
    "    wrd = w.wcs_pix2world(objects['x'], objects['y'], np.zeros(len(objects['x'])), 0) #double check this!!!!!\n",
    "    ra = wrd[:][0]\n",
    "    dec = wrd[:][1]\n",
    "    return ra, dec"
   ]
  },
  {
   "cell_type": "markdown",
   "metadata": {},
   "source": [
    "# Exposure 1 extraction"
   ]
  },
  {
   "cell_type": "code",
   "execution_count": 30,
   "metadata": {
    "collapsed": false
   },
   "outputs": [
    {
     "name": "stdout",
     "output_type": "stream",
     "text": [
      "('number of exposure 1 sources', 65)\n"
     ]
    },
    {
     "ename": "TypeError",
     "evalue": "sum_ellipse() got an unexpected keyword argument 'pho_auto_A'",
     "output_type": "error",
     "traceback": [
      "\u001b[0;31m---------------------------------------------------------------------------\u001b[0m",
      "\u001b[0;31mTypeError\u001b[0m                                 Traceback (most recent call last)",
      "\u001b[0;32m<ipython-input-30-05c21d7bcaaa>\u001b[0m in \u001b[0;36m<module>\u001b[0;34m()\u001b[0m\n\u001b[1;32m      7\u001b[0m \u001b[0;32mprint\u001b[0m\u001b[0;34m(\u001b[0m\u001b[0;34m'number of exposure 1 sources'\u001b[0m\u001b[0;34m,\u001b[0m \u001b[0mlen\u001b[0m\u001b[0;34m(\u001b[0m\u001b[0mobjects_exp1\u001b[0m\u001b[0;34m[\u001b[0m\u001b[0;34m'x'\u001b[0m\u001b[0;34m]\u001b[0m\u001b[0;34m)\u001b[0m\u001b[0;34m)\u001b[0m\u001b[0;34m\u001b[0m\u001b[0m\n\u001b[1;32m      8\u001b[0m \u001b[0mkronrad_exp1\u001b[0m\u001b[0;34m,\u001b[0m \u001b[0mkronflag_exp1\u001b[0m \u001b[0;34m=\u001b[0m \u001b[0mkron_info\u001b[0m\u001b[0;34m(\u001b[0m\u001b[0mobjects_exp1\u001b[0m\u001b[0;34m,\u001b[0m \u001b[0mtbdat_sub_exp1\u001b[0m\u001b[0;34m)\u001b[0m\u001b[0;34m\u001b[0m\u001b[0m\n\u001b[0;32m----> 9\u001b[0;31m \u001b[0mflux_exp1\u001b[0m\u001b[0;34m,\u001b[0m \u001b[0mfluxerr_exp1\u001b[0m\u001b[0;34m,\u001b[0m \u001b[0mflag_exp1\u001b[0m\u001b[0;34m,\u001b[0m \u001b[0mr_exp1\u001b[0m\u001b[0;34m,\u001b[0m \u001b[0mxwin_exp1\u001b[0m\u001b[0;34m,\u001b[0m \u001b[0mywin_exp1\u001b[0m\u001b[0;34m=\u001b[0m \u001b[0mfind_flux\u001b[0m\u001b[0;34m(\u001b[0m\u001b[0mtbdat_sub_exp1\u001b[0m\u001b[0;34m,\u001b[0m \u001b[0mbkg_exp1\u001b[0m\u001b[0;34m,\u001b[0m \u001b[0mobjects_exp1\u001b[0m\u001b[0;34m,\u001b[0m \u001b[0mkronrad_exp1\u001b[0m\u001b[0;34m,\u001b[0m \u001b[0mkronflag_exp1\u001b[0m\u001b[0;34m)\u001b[0m\u001b[0;34m\u001b[0m\u001b[0m\n\u001b[0m\u001b[1;32m     10\u001b[0m \u001b[0;34m\u001b[0m\u001b[0m\n\u001b[1;32m     11\u001b[0m \u001b[0;31m#mag = magnitude(flux, zero_point)\u001b[0m\u001b[0;34m\u001b[0m\u001b[0;34m\u001b[0m\u001b[0m\n",
      "\u001b[0;32m<ipython-input-29-96479cade249>\u001b[0m in \u001b[0;36mfind_flux\u001b[0;34m(tbdat_sub, bkg, objects, kronrad, kronflag)\u001b[0m\n\u001b[1;32m      1\u001b[0m \u001b[0;31m#Finds flux, flux error, and extraction flags\u001b[0m\u001b[0;34m\u001b[0m\u001b[0;34m\u001b[0m\u001b[0m\n\u001b[1;32m      2\u001b[0m \u001b[0;32mdef\u001b[0m \u001b[0mfind_flux\u001b[0m\u001b[0;34m(\u001b[0m\u001b[0mtbdat_sub\u001b[0m\u001b[0;34m,\u001b[0m \u001b[0mbkg\u001b[0m\u001b[0;34m,\u001b[0m \u001b[0mobjects\u001b[0m\u001b[0;34m,\u001b[0m \u001b[0mkronrad\u001b[0m\u001b[0;34m,\u001b[0m \u001b[0mkronflag\u001b[0m\u001b[0;34m)\u001b[0m\u001b[0;34m:\u001b[0m\u001b[0;34m\u001b[0m\u001b[0m\n\u001b[0;32m----> 3\u001b[0;31m     \u001b[0mflux\u001b[0m\u001b[0;34m,\u001b[0m \u001b[0mfluxerr\u001b[0m\u001b[0;34m,\u001b[0m \u001b[0mflag\u001b[0m \u001b[0;34m=\u001b[0m \u001b[0msep\u001b[0m\u001b[0;34m.\u001b[0m\u001b[0msum_ellipse\u001b[0m\u001b[0;34m(\u001b[0m\u001b[0mtbdat_sub\u001b[0m\u001b[0;34m,\u001b[0m \u001b[0mobjects\u001b[0m\u001b[0;34m[\u001b[0m\u001b[0;34m'x'\u001b[0m\u001b[0;34m]\u001b[0m\u001b[0;34m,\u001b[0m \u001b[0mobjects\u001b[0m\u001b[0;34m[\u001b[0m\u001b[0;34m'y'\u001b[0m\u001b[0;34m]\u001b[0m\u001b[0;34m,\u001b[0m \u001b[0mobjects\u001b[0m\u001b[0;34m[\u001b[0m\u001b[0;34m'a'\u001b[0m\u001b[0;34m]\u001b[0m\u001b[0;34m,\u001b[0m \u001b[0mobjects\u001b[0m\u001b[0;34m[\u001b[0m\u001b[0;34m'b'\u001b[0m\u001b[0;34m]\u001b[0m\u001b[0;34m,\u001b[0m \u001b[0mobjects\u001b[0m\u001b[0;34m[\u001b[0m\u001b[0;34m'theta'\u001b[0m\u001b[0;34m]\u001b[0m\u001b[0;34m,\u001b[0m \u001b[0mpho_auto_A\u001b[0m \u001b[0;34m=\u001b[0m \u001b[0;34m(\u001b[0m\u001b[0;36m2.5\u001b[0m\u001b[0;34m*\u001b[0m\u001b[0mkronrad\u001b[0m\u001b[0;34m)\u001b[0m\u001b[0;34m,\u001b[0m \u001b[0merr\u001b[0m \u001b[0;34m=\u001b[0m \u001b[0mbkg\u001b[0m\u001b[0;34m.\u001b[0m\u001b[0mglobalrms\u001b[0m\u001b[0;34m,\u001b[0m \u001b[0msubpix\u001b[0m\u001b[0;34m=\u001b[0m\u001b[0;36m1\u001b[0m\u001b[0;34m)\u001b[0m\u001b[0;34m\u001b[0m\u001b[0m\n\u001b[0m\u001b[1;32m      4\u001b[0m     \u001b[0mflag\u001b[0m \u001b[0;34m|=\u001b[0m\u001b[0mkronflag\u001b[0m \u001b[0;31m#combines all flags\u001b[0m\u001b[0;34m\u001b[0m\u001b[0m\n\u001b[1;32m      5\u001b[0m     \u001b[0mr_min\u001b[0m \u001b[0;34m=\u001b[0m \u001b[0;36m1.75\u001b[0m \u001b[0;31m#minimum diameter = 3.5\u001b[0m\u001b[0;34m\u001b[0m\u001b[0m\n",
      "\u001b[0;32msep.pyx\u001b[0m in \u001b[0;36msep.sum_ellipse (sep.c:10178)\u001b[0;34m()\u001b[0m\n",
      "\u001b[0;31mTypeError\u001b[0m: sum_ellipse() got an unexpected keyword argument 'pho_auto_A'"
     ]
    }
   ],
   "source": [
    "fname_exp1 = 'simple_sim_cube_F090W_487_01.slp.fits'\n",
    "tbdat_exp1 = load_fits(fname_exp1)\n",
    "zero_point = zero(fname_exp1)\n",
    "bkg_exp1 = sep.Background(tbdat_exp1) #measures background\n",
    "tbdat_sub_exp1 = subtraction(tbdat_exp1, bkg_exp1)\n",
    "objects_exp1 = extraction(tbdat_sub_exp1, bkg_exp1) #extraction\n",
    "print('number of exposure 1 sources', len(objects_exp1['x']))\n",
    "kronrad_exp1, kronflag_exp1 = kron_info(objects_exp1, tbdat_sub_exp1)\n",
    "flux_exp1, fluxerr_exp1, flag_exp1, r_exp1, xwin_exp1, ywin_exp1= find_flux(tbdat_sub_exp1, bkg_exp1, objects_exp1, kronrad_exp1, kronflag_exp1)\n",
    "\n",
    "#mag = magnitude(flux, zero_point)\n",
    "#num_cat, ra_cat, dec_cat, mag_cat, z, s = read_cat('candels_with_fake_mag.cat')\n",
    "#ra_exp1, dec_exp1 = world_exp(fname_exp1, objects)"
   ]
  },
  {
   "cell_type": "markdown",
   "metadata": {},
   "source": [
    "# Exposure 2 Extraction"
   ]
  },
  {
   "cell_type": "code",
   "execution_count": null,
   "metadata": {
    "collapsed": true
   },
   "outputs": [],
   "source": [
    "fname_exp2 = 'simple_sim_cube_F090W_487_02.slp.fits'\n",
    "tbdat_exp2 = load_fits(fname_exp2)\n",
    "bkg_exp2 = sep.Background(tbdat_exp2) #measures background\n",
    "tbdat_sub_exp2 = subtraction(tbdat_exp2, bkg_exp2)\n",
    "objects_exp2 = extractions(tbdat_sub_exp2, bkg_exp2) #extraction\n",
    "print('number of exposure 2 sources', len(objects_exp2['x']))\n",
    "kronrad_exp2, kronflag_exp2 = kron_info(objects_exp2, tbdat_sub_exp2)\n",
    "flux_exp2, fluxerr_exp2, flag_exp2, r_exp2, xwin_exp2, ywin_exp2= find_flux(tbdat_sub_exp2, bkg_exp2, objects_exp2, kronrad_exp2, kronflag_exp2,)\n"
   ]
  },
  {
   "cell_type": "markdown",
   "metadata": {},
   "source": [
    "# Exposure 3 Extraction"
   ]
  },
  {
   "cell_type": "code",
   "execution_count": null,
   "metadata": {
    "collapsed": true
   },
   "outputs": [],
   "source": [
    "fname_exp3 = 'simple_sim_cube_F090W_487_03.slp.fits'\n",
    "tbdat_exp3 = load_fits(fname_exp3)\n",
    "bkg_exp3 = sep.Background(tbdat_exp3) #measures background\n",
    "tbdat_sub_exp3 = subtraction(tbdat_exp3, bkg_exp3)\n",
    "objects_exp3 = extractions(tbdat_sub_exp3, bkg_exp3) #extraction\n",
    "print('number of exposure 3 sources', len(objects_exp3['x']))\n",
    "kronrad_exp3, kronflag_exp3 = kron_info(objects_exp3, tbdat_sub_exp3)\n",
    "flux_exp3, fluxerr_exp3, flag_exp3, r_exp3, xwin_exp3, ywin_exp3= find_flux(tbdat_sub_exp3, bkg_exp3, objects_exp3, kronrad_exp3, kronflag_exp3)\n"
   ]
  },
  {
   "cell_type": "markdown",
   "metadata": {},
   "source": [
    "# Exposure 4 Extraction"
   ]
  },
  {
   "cell_type": "code",
   "execution_count": null,
   "metadata": {
    "collapsed": true
   },
   "outputs": [],
   "source": [
    "fname_exp4 = 'simple_sim_cube_F090W_487_04.slp.fits'\n",
    "tbdat_exp4 = load_fits(fname_exp4)\n",
    "bkg_exp4 = sep.Background(tbdat_exp4) #measures background\n",
    "tbdat_sub_exp4 = subtraction(tbdat_exp4, bkg_exp4)\n",
    "objects_exp4 = extractions(tbdat_sub_exp4, bkg_exp4) #extraction\n",
    "print('number of exposure 4 sources', len(objects_exp4['x']))\n",
    "kronrad_exp4, kronflag_exp4 = kron_info(objects_exp4, tbdat_sub_exp4)\n",
    "flux_exp4, fluxerr_exp4, flag_exp4, r_exp4, xwin_exp4, ywin_exp4= find_flux(tbdat_sub_exp4, bkg_exp4, objects_exp4, kronrad_exp4, kronflag_exp4)\n"
   ]
  },
  {
   "cell_type": "markdown",
   "metadata": {
    "collapsed": true
   },
   "source": [
    "# Mosic Image Extraction"
   ]
  },
  {
   "cell_type": "code",
   "execution_count": null,
   "metadata": {
    "collapsed": true
   },
   "outputs": [],
   "source": [
    "fname_img =  'H.fits'\n",
    "tbdat = load_fits(fname_img)\n",
    "bkg = sep.Background(tbdat) #measures background\n",
    "tbdat_sub = (subtraction(tbdat, bkg)\n",
    "objects = extraction(tbdat_sub, bkg) #extraction of mosaic image\n",
    "print('number of mosaic sources', len(objects['x']))\n",
    "kronrad, kronflag = kron_info(objects, tbdat_sub) #Finds Kron Radius\n",
    "flux, fluxerr, flag, r, xwin, ywin= find_flux(tbdat_sub, bkg, objects, kronrad, kronflag) #Finds flux from aperature phot.\n"
   ]
  }
 ],
 "metadata": {
  "anaconda-cloud": {},
  "kernelspec": {
   "display_name": "Python [default]",
   "language": "python",
   "name": "python2"
  },
  "language_info": {
   "codemirror_mode": {
    "name": "ipython",
    "version": 2
   },
   "file_extension": ".py",
   "mimetype": "text/x-python",
   "name": "python",
   "nbconvert_exporter": "python",
   "pygments_lexer": "ipython2",
   "version": "2.7.12"
  }
 },
 "nbformat": 4,
 "nbformat_minor": 1
}
